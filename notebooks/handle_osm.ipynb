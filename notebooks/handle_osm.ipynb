{
 "cells": [
  {
   "cell_type": "code",
   "execution_count": 1,
   "id": "cleared-membrane",
   "metadata": {},
   "outputs": [],
   "source": [
    "import pandas as pd\n",
    "from io import open\n",
    "import json as json\n",
    "import re\n",
    "import numpy as np\n",
    "import pickle\n"
   ]
  },
  {
   "cell_type": "code",
   "execution_count": 2,
   "id": "fluid-match",
   "metadata": {},
   "outputs": [],
   "source": [
    "archivo = open(\"../osm/edificio_este.osm\",\"r\")\n",
    "\n",
    "osm = archivo.readlines()"
   ]
  },
  {
   "cell_type": "code",
   "execution_count": 3,
   "id": "italic-scoop",
   "metadata": {},
   "outputs": [],
   "source": [
    "def save_dict(dictionary,file):\n",
    "    archivo = open(file, \"w\")\n",
    "    json.dump(dictionary,archivo,indent=2)\n",
    "    print(\"saved:\",file)\n",
    "    archivo.close()\n",
    "\n",
    "def read_osm(file):\n",
    "    tmp = open(file)\n",
    "    osm = tmp.readlines()\n",
    "    return osm\n",
    "\n",
    "def get_dictionary(osm,OSM_OBJETO,kind=\"dict\"):\n",
    "    # identifica donde inicia un objeto y donde \n",
    "    # termina, y los pone en una lista    \n",
    "    objeto = []\n",
    "    coma   = []\n",
    "    for i,renglon in enumerate(osm):\n",
    "        if renglon.startswith(\"OS:\"): #localiza el inicio de un objeto\n",
    "            objeto.append(i)\n",
    "        if \";\" in renglon:  #localiza el final de un objeto\n",
    "            coma.append(i)\n",
    "#     en os_lista, guarda donde inicia y termina cada objeto\n",
    "    osm_lista = []\n",
    "    for i,j in zip(objeto,coma):\n",
    "        osm_lista.append(osm[i:j])\n",
    "# separa en dos listas, lista objeto y resto del osm\n",
    "    objeto_lista = []\n",
    "    resto_lista  = []\n",
    "    for objeto in osm_lista:\n",
    "        if OSM_OBJETO in objeto:\n",
    "            objeto_lista.append(objeto)\n",
    "        else:\n",
    "            resto_lista.append(objeto)\n",
    "#     print(objeto_lista)\n",
    "#             Limpia la lista que contiene el objeto\n",
    "    lista_objetos = []\n",
    "    for objeto in objeto_lista:\n",
    "        lista_objeto = []\n",
    "        objeto[0]= objeto[0].replace(\",\",\"\")\n",
    "        for campo in objeto:\n",
    "            lista_objeto.append(campo.replace(\"\\n\",\"\").\n",
    "                                 replace(\"\",\"\").\n",
    "#                                  replace(\"{\",\"\").\n",
    "#                                  replace(\"}\",\"\").\n",
    "                                 replace(\"!- \",\"\").\n",
    "                                 strip())\n",
    "        lista_objetos.append(lista_objeto)\n",
    "    \n",
    "    diccionario = {}\n",
    "    for objeto in lista_objetos:\n",
    "        nombre_objeto,_ = objeto[2].split(\",\")\n",
    "        tmp = {}\n",
    "        for propiedad in range(1,len(objeto)):\n",
    "            try:\n",
    "                valor,nombre = objeto[propiedad].split(\",\")\n",
    "                try:\n",
    "                    valor = float(valor)\n",
    "                except:\n",
    "                    if nombre==\"Thermal Absorptance\":\n",
    "                        valor = 0.9\n",
    "                    if nombre==\"Solar Absorptance\":\n",
    "                        valor = 0.7\n",
    "                    if nombre==\"Visible Absorptance\":\n",
    "                        valor = 0.7\n",
    "                    if nombre==\"Roughness\":\n",
    "                        valor = \"Smooth\"\n",
    "                    if nombre==\"Thickness m\":\n",
    "                        valor = 0.1\n",
    "                    if nombre==\"Conductivity W/m-K\": \n",
    "                        valor = 0.1\n",
    "                    if nombre==\"Density kg/m3\": \n",
    "                        valor = 0.1\n",
    "                    if nombre==\"Specific Heat J/kg-K\": \n",
    "                        valor = 0.1\n",
    "            except:\n",
    "                pass\n",
    "            tmp.update({nombre:valor})\n",
    "        del tmp[\"Name\"]\n",
    "        diccionario.update({nombre_objeto:tmp})\n",
    "# diccionario\n",
    "    if kind==\"dict\":\n",
    "        return diccionario\n",
    "    if kind==\"list\":\n",
    "        return lista_objetos\n",
    "osm = read_osm(\"../osm/edificio_este.osm\")\n",
    "diccionario = get_dictionary(osm,\"OS:Material,\\n\")"
   ]
  },
  {
   "cell_type": "code",
   "execution_count": 4,
   "id": "inner-hometown",
   "metadata": {},
   "outputs": [],
   "source": [
    "osm = read_osm(\"../osm/edificio_este.osm\")\n",
    "diccionario = get_dictionary(osm,\"OS:Material,\\n\")\n"
   ]
  },
  {
   "cell_type": "code",
   "execution_count": 5,
   "id": "satisfactory-costs",
   "metadata": {},
   "outputs": [
    {
     "name": "stdout",
     "output_type": "stream",
     "text": [
      "concreto_fc150_granzon_L8_a0pX\n",
      "concreto_fc150_L6_a0pX\n",
      "concreto_fc250_L30_a0pX\n",
      "madera_L2p2_a0pX\n",
      "marmol_L2_a0pX\n",
      "concreto_fc250_L20_a0pX\n",
      "mortero1:4_L1_a0pX\n",
      "loseta_Lx_a0pX\n",
      "impermeabilizante_LX_a0p3\n",
      "fachaleta_L1_a0p3\n",
      "concreto_fc200_L15_a0pX\n",
      "durock_L1p27_a0p3\n",
      "concreto_fc250_L15_a0pX\n",
      "concreto_fc150_marmol_L8_a0pX\n",
      "concreto_fc150_L8_a0pX\n",
      "crest_L1_a0pX\n",
      "tabique_hueco_L1_a0pX\n",
      "concreto_fc150_L5_a0pX\n",
      "lana_L6p35_a0p3\n",
      "tabique_hueco_L2_a0pX\n",
      "tabique_hueco_L3_a0pX\n",
      "vermiculita_LX_a0pX\n",
      "concreto_fc200_L20_a0pX\n",
      "aluminio\n",
      "Metal Decking\n",
      "fachaleta_L1_a0p7\n",
      "F16 Acoustic tile\n"
     ]
    },
    {
     "data": {
      "text/plain": [
       "{'Handle': '{da0ae925-c712-45dc-a93f-babc664e7911}',\n",
       " 'Roughness': 'Smooth',\n",
       " 'Thickness {m}': 0.01,\n",
       " 'Conductivity {W/m-K}': 1.0,\n",
       " 'Density {kg/m3}': 1800.0}"
      ]
     },
     "execution_count": 5,
     "metadata": {},
     "output_type": "execute_result"
    }
   ],
   "source": [
    "for objeto in diccionario:\n",
    "    print(objeto)\n",
    "diccionario['mortero1:4_L1_a0pX']"
   ]
  },
  {
   "cell_type": "code",
   "execution_count": 6,
   "id": "regular-robin",
   "metadata": {
    "scrolled": false
   },
   "outputs": [],
   "source": [
    "diccionario[\"concreto_fc150_granzon_L8_a0pX\"][\"Solar Absorptance\"] = 0.2"
   ]
  },
  {
   "cell_type": "code",
   "execution_count": 7,
   "id": "moving-closer",
   "metadata": {},
   "outputs": [
    {
     "data": {
      "text/plain": [
       "0.2"
      ]
     },
     "execution_count": 7,
     "metadata": {},
     "output_type": "execute_result"
    }
   ],
   "source": [
    "diccionario[\"concreto_fc150_granzon_L8_a0pX\"][\"Solar Absorptance\"] "
   ]
  },
  {
   "cell_type": "code",
   "execution_count": 8,
   "id": "raised-table",
   "metadata": {},
   "outputs": [
    {
     "name": "stdout",
     "output_type": "stream",
     "text": [
      "saved: dictionario.json\n"
     ]
    }
   ],
   "source": [
    "save_dict(diccionario,\"dictionario.json\")"
   ]
  },
  {
   "cell_type": "code",
   "execution_count": 9,
   "id": "bearing-network",
   "metadata": {},
   "outputs": [],
   "source": [
    "def load_dict(file):\n",
    "    with open(file) as json_file:\n",
    "        dictionary = json.load(json_file)\n",
    "    return dictionary\n",
    "nuevo = load_dict(\"dictionario.json\")"
   ]
  },
  {
   "cell_type": "code",
   "execution_count": 10,
   "id": "unavailable-dutch",
   "metadata": {},
   "outputs": [],
   "source": [
    "\n",
    "def save_osm(osm,OSM_OBJETO):\n",
    "    # identifica donde inicia un objeto y donde \n",
    "    # termina, y los pone en una lista    \n",
    "    objeto = []\n",
    "    coma   = []\n",
    "    for i,renglon in enumerate(osm):\n",
    "        if renglon.startswith(\"OS:\"): #localiza el inicio de un objeto\n",
    "            objeto.append(i)\n",
    "        if \";\" in renglon:  #localiza el final de un objeto\n",
    "            coma.append(i)\n",
    "#     en os_lista, guarda donde inicia y termina cada objeto\n",
    "    osm_lista = []\n",
    "    for i,j in zip(objeto,coma):\n",
    "        osm_lista.append(osm[i:j])\n",
    "# separa en dos listas, lista objeto y resto del osm\n",
    "    objeto_lista = []\n",
    "    resto_lista  = []\n",
    "    for objeto in osm_lista:\n",
    "        if OSM_OBJETO in objeto:\n",
    "            objeto_lista.append(objeto)\n",
    "        else:\n",
    "            resto_lista.append(objeto)\n",
    "    return objeto_lista, resto_lista"
   ]
  },
  {
   "cell_type": "code",
   "execution_count": 11,
   "id": "injured-arctic",
   "metadata": {},
   "outputs": [],
   "source": [
    "parte_materiales, resto = save_osm(osm,\"OS:Material,\\n\")"
   ]
  },
  {
   "cell_type": "code",
   "execution_count": 12,
   "id": "pressed-cheat",
   "metadata": {},
   "outputs": [
    {
     "ename": "SyntaxError",
     "evalue": "invalid syntax (<ipython-input-12-5bbd9a6405e9>, line 1)",
     "output_type": "error",
     "traceback": [
      "\u001b[0;36m  File \u001b[0;32m\"<ipython-input-12-5bbd9a6405e9>\"\u001b[0;36m, line \u001b[0;32m1\u001b[0m\n\u001b[0;31m    def save\u001b[0m\n\u001b[0m            ^\u001b[0m\n\u001b[0;31mSyntaxError\u001b[0m\u001b[0;31m:\u001b[0m invalid syntax\n"
     ]
    }
   ],
   "source": [
    "# def save\n",
    "# with open(\"test.osm\", \"w\") as f:\n",
    "#     for s in osm:\n",
    "#         f.write(s)"
   ]
  },
  {
   "cell_type": "code",
   "execution_count": null,
   "id": "skilled-rotation",
   "metadata": {},
   "outputs": [],
   "source": [
    "OS:Material,\n",
    "  {da0ae925-c712-45dc-a93f-babc664e7911},!- Handle\n",
    "  mortero1:4_L1_a0pX,!- Name\n",
    "  MediumRough,!- Roughness\n",
    "  0.01,!- Thickness {m}\n",
    "  1.0,!- Conductivity {W/m-K}\n",
    "  1800.0,!- Density {kg/m3}\n",
    "  1000.0;!- Specific Heat {J/kg-K}\n",
    "\n",
    "OS:Material,\n",
    "  {d2d407be-ecda-4a03-9396-eac43147510b},!- Handle\n",
    "  impermeabilizante_LX_a0p3,!- Name\n",
    "  VeryRough,!- Roughness\n",
    "  0.0095,!- Thickness {m}\n",
    "  0.16,!- Conductivity {W/m-K}\n",
    "  1121.29,!- Density {kg/m3}\n",
    "  1460.0,!- Specific Heat {J/kg-K}\n",
    "  ,!- Thermal Absorptance\n",
    "  0.7;!- Solar Absorptance"
   ]
  },
  {
   "cell_type": "code",
   "execution_count": 13,
   "id": "weird-translation",
   "metadata": {},
   "outputs": [
    {
     "name": "stdout",
     "output_type": "stream",
     "text": [
      "OS:Material,\n",
      "{2e7157dc-32c2-44e3-9415-7874ececbba9} ,!- Handle\n",
      "concreto_fc150_granzon_L8_a0pX ,!- Name\n",
      "Smooth ,!- Roughness\n",
      "0.15 ,!- Thickness {m}\n",
      "1800.0 ,!- Density {kg/m3}\n",
      "1000.0 ,!- Specific Heat {J/kg-K}\n",
      "\n",
      "\n",
      "OS:Material,\n",
      "{acc9b317-088e-4fa3-a849-9aec59e11271} ,!- Handle\n",
      "concreto_fc150_L6_a0pX ,!- Name\n",
      "Smooth ,!- Roughness\n",
      "0.15 ,!- Thickness {m}\n",
      "1800.0 ,!- Density {kg/m3}\n",
      "1000.0 ,!- Specific Heat {J/kg-K}\n",
      "\n",
      "\n",
      "OS:Material,\n",
      "{fe21d530-02b9-4f7e-8369-6955e97efd5a} ,!- Handle\n",
      "concreto_fc250_L30_a0pX ,!- Name\n",
      "Smooth ,!- Roughness\n",
      "0.3 ,!- Thickness {m}\n",
      "1800.0 ,!- Density {kg/m3}\n",
      "1000.0 ,!- Specific Heat {J/kg-K}\n",
      "\n",
      "\n",
      "OS:Material,\n",
      "{8f09ab24-4c76-41a0-aafb-911a9de403f8} ,!- Handle\n",
      "madera_L2p2_a0pX ,!- Name\n",
      "Smooth ,!- Roughness\n",
      "0.02 ,!- Thickness {m}\n",
      "600.0 ,!- Density {kg/m3}\n",
      "1210.0 ,!- Specific Heat {J/kg-K}\n",
      "\n",
      "\n",
      "OS:Material,\n",
      "{9c0ea449-48e9-4c01-b8c0-5a414bb4b01c} ,!- Handle\n",
      "marmol_L2_a0pX ,!- Name\n",
      "Smooth ,!- Roughness\n",
      "0.02 ,!- Thickness {m}\n",
      "2700.0 ,!- Density {kg/m3}\n",
      "879.0 ,!- Specific Heat {J/kg-K}\n",
      "\n",
      "\n",
      "OS:Material,\n",
      "{5cd569c2-f644-4e8f-9141-bf790450e27a} ,!- Handle\n",
      "concreto_fc250_L20_a0pX ,!- Name\n",
      "Smooth ,!- Roughness\n",
      "0.2 ,!- Thickness {m}\n",
      "1800.0 ,!- Density {kg/m3}\n",
      "1000.0 ,!- Specific Heat {J/kg-K}\n",
      "\n",
      "\n",
      "OS:Material,\n",
      "{da0ae925-c712-45dc-a93f-babc664e7911} ,!- Handle\n",
      "mortero1:4_L1_a0pX ,!- Name\n",
      "Smooth ,!- Roughness\n",
      "0.01 ,!- Thickness {m}\n",
      "1800.0 ,!- Density {kg/m3}\n"
     ]
    },
    {
     "ename": "KeyError",
     "evalue": "'Specific Heat {J/kg-K}'",
     "output_type": "error",
     "traceback": [
      "\u001b[0;31m---------------------------------------------------------------------------\u001b[0m",
      "\u001b[0;31mKeyError\u001b[0m                                  Traceback (most recent call last)",
      "\u001b[0;32m<ipython-input-13-b2a06a607f3b>\u001b[0m in \u001b[0;36m<module>\u001b[0;34m\u001b[0m\n\u001b[1;32m      8\u001b[0m     \u001b[0mprint\u001b[0m\u001b[0;34m(\u001b[0m\u001b[0mdiccionario\u001b[0m\u001b[0;34m[\u001b[0m\u001b[0mobjeto\u001b[0m\u001b[0;34m]\u001b[0m\u001b[0;34m[\u001b[0m\u001b[0;34m\"Thickness {m}\"\u001b[0m\u001b[0;34m]\u001b[0m\u001b[0;34m,\u001b[0m\u001b[0;34m\",!- Thickness {m}\"\u001b[0m\u001b[0;34m)\u001b[0m\u001b[0;34m\u001b[0m\u001b[0;34m\u001b[0m\u001b[0m\n\u001b[1;32m      9\u001b[0m     \u001b[0mprint\u001b[0m\u001b[0;34m(\u001b[0m\u001b[0mdiccionario\u001b[0m\u001b[0;34m[\u001b[0m\u001b[0mobjeto\u001b[0m\u001b[0;34m]\u001b[0m\u001b[0;34m[\u001b[0m\u001b[0;34m\"Density {kg/m3}\"\u001b[0m\u001b[0;34m]\u001b[0m\u001b[0;34m,\u001b[0m\u001b[0;34m\",!- Density {kg/m3}\"\u001b[0m\u001b[0;34m)\u001b[0m\u001b[0;34m\u001b[0m\u001b[0;34m\u001b[0m\u001b[0m\n\u001b[0;32m---> 10\u001b[0;31m     \u001b[0mprint\u001b[0m\u001b[0;34m(\u001b[0m\u001b[0mdiccionario\u001b[0m\u001b[0;34m[\u001b[0m\u001b[0mobjeto\u001b[0m\u001b[0;34m]\u001b[0m\u001b[0;34m[\u001b[0m\u001b[0;34m\"Specific Heat {J/kg-K}\"\u001b[0m\u001b[0;34m]\u001b[0m\u001b[0;34m,\u001b[0m\u001b[0;34m\",!- Specific Heat {J/kg-K}\"\u001b[0m\u001b[0;34m)\u001b[0m\u001b[0;34m\u001b[0m\u001b[0;34m\u001b[0m\u001b[0m\n\u001b[0m\u001b[1;32m     11\u001b[0m     \u001b[0mprint\u001b[0m\u001b[0;34m(\u001b[0m\u001b[0;34m\"\\n\"\u001b[0m\u001b[0;34m)\u001b[0m\u001b[0;34m\u001b[0m\u001b[0;34m\u001b[0m\u001b[0m\n",
      "\u001b[0;31mKeyError\u001b[0m: 'Specific Heat {J/kg-K}'"
     ]
    }
   ],
   "source": [
    "objeto_archivo = []\n",
    "\n",
    "for objeto in diccionario:\n",
    "    print(\"OS:Material,\")\n",
    "    print(diccionario[objeto][\"Handle\"],\",!- Handle\")    \n",
    "    print(objeto,\",!- Name\")\n",
    "    print(diccionario[objeto][\"Roughness\"],\",!- Roughness\")  \n",
    "    print(diccionario[objeto][\"Thickness {m}\"],\",!- Thickness {m}\")  \n",
    "    print(diccionario[objeto][\"Density {kg/m3}\"],\",!- Density {kg/m3}\")  \n",
    "    print(diccionario[objeto][\"Specific Heat {J/kg-K}\"],\",!- Specific Heat {J/kg-K}\")  \n",
    "    print(\"\\n\")\n"
   ]
  },
  {
   "cell_type": "code",
   "execution_count": null,
   "id": "consistent-reunion",
   "metadata": {},
   "outputs": [],
   "source": [
    "diccionario"
   ]
  },
  {
   "cell_type": "code",
   "execution_count": null,
   "id": "altered-count",
   "metadata": {},
   "outputs": [],
   "source": []
  }
 ],
 "metadata": {
  "kernelspec": {
   "display_name": "Python 3",
   "language": "python",
   "name": "python3"
  },
  "language_info": {
   "codemirror_mode": {
    "name": "ipython",
    "version": 3
   },
   "file_extension": ".py",
   "mimetype": "text/x-python",
   "name": "python",
   "nbconvert_exporter": "python",
   "pygments_lexer": "ipython3",
   "version": "3.9.2"
  }
 },
 "nbformat": 4,
 "nbformat_minor": 5
}
