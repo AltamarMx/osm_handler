{
 "cells": [
  {
   "cell_type": "code",
   "execution_count": 1,
   "id": "cleared-membrane",
   "metadata": {},
   "outputs": [],
   "source": [
    "import pandas as pd\n",
    "from io import open\n",
    "import json as json\n",
    "import re\n",
    "import numpy as np"
   ]
  },
  {
   "cell_type": "code",
   "execution_count": 2,
   "id": "fluid-match",
   "metadata": {},
   "outputs": [],
   "source": [
    "archivo = open(\"../osm/edificio_este.osm\",\"r\")\n",
    "\n",
    "osm = archivo.readlines()"
   ]
  },
  {
   "cell_type": "code",
   "execution_count": 42,
   "id": "italic-scoop",
   "metadata": {},
   "outputs": [
    {
     "name": "stdout",
     "output_type": "stream",
     "text": [
      "concreto_fc150_granzon_L8_a0pX\n",
      "concreto_fc150_L6_a0pX\n",
      "concreto_fc250_L30_a0pX\n",
      "madera_L2p2_a0pX\n",
      "marmol_L2_a0pX\n",
      "concreto_fc250_L20_a0pX\n",
      "mortero1:4_L1_a0pX\n",
      "loseta_Lx_a0pX\n",
      "impermeabilizante_LX_a0p3\n",
      "fachaleta_L1_a0p3\n",
      "concreto_fc200_L15_a0pX\n",
      "durock_L1p27_a0p3\n",
      "concreto_fc250_L15_a0pX\n",
      "concreto_fc150_marmol_L8_a0pX\n",
      "concreto_fc150_L8_a0pX\n",
      "crest_L1_a0pX\n",
      "tabique_hueco_L1_a0pX\n",
      "concreto_fc150_L5_a0pX\n",
      "lana_L6p35_a0p3\n",
      "tabique_hueco_L2_a0pX\n",
      "tabique_hueco_L3_a0pX\n",
      "vermiculita_LX_a0pX\n",
      "concreto_fc200_L20_a0pX\n",
      "aluminio\n",
      "Metal Decking\n",
      "fachaleta_L1_a0p7\n",
      "F16 Acoustic tile\n"
     ]
    },
    {
     "data": {
      "text/plain": [
       "'0.8'"
      ]
     },
     "execution_count": 42,
     "metadata": {},
     "output_type": "execute_result"
    }
   ],
   "source": [
    "\n",
    "\n",
    "def get_object(osm,OSM_OBJETO):\n",
    "    # identifica donde inicia un objeto y donde \n",
    "    # termina, y los pone en una lista    \n",
    "    objeto = []\n",
    "    coma   = []\n",
    "    for i,renglon in enumerate(osm):\n",
    "        if renglon.startswith(\"OS:\"): #localiza el inicio de un objeto\n",
    "            objeto.append(i)\n",
    "        if \";\" in renglon:  #localiza el final de un objeto\n",
    "            coma.append(i)\n",
    "#     en os_lista, guarda donde inicia y termina cada objeto\n",
    "    osm_lista = []\n",
    "    for i,j in zip(objeto,coma):\n",
    "        osm_lista.append(osm[i:j])\n",
    "# separa en dos listas, lista objeto y resto del osm\n",
    "    objeto_lista = []\n",
    "    resto_lista  = []\n",
    "    for objeto in osm_lista:\n",
    "        if OSM_OBJETO in objeto:\n",
    "            objeto_lista.append(objeto)\n",
    "        else:\n",
    "            resto_lista.append(objeto)\n",
    "#             Limpia la lista que contiene el objeto\n",
    "    lista_objetos = []\n",
    "    for objeto in objeto_lista:\n",
    "        lista_objeto = []\n",
    "        objeto[0]= objeto[0].replace(\",\",\"\")\n",
    "        for campo in objeto:\n",
    "            lista_objeto.append(campo.replace(\"\\n\",\"\").\n",
    "                                 replace(\"\",\"\").\n",
    "                                 replace(\"{\",\"\").\n",
    "                                 replace(\"}\",\"\").\n",
    "                                 replace(\"!- \",\"\").\n",
    "                                 strip())\n",
    "        lista_objetos.append(lista_objeto)\n",
    "    \n",
    "    diccionario = {}\n",
    "    for objeto in lista_objetos:\n",
    "        nombre_objeto,_ = objeto[2].split(\",\")\n",
    "        tmp = {}\n",
    "        for propiedad in range(1,len(objeto)):\n",
    "            try:\n",
    "                valor,nombre = objeto[propiedad].split(\",\")\n",
    "                try:\n",
    "                    valor = float(valor)\n",
    "                except:\n",
    "                    pass\n",
    "\n",
    "            except:\n",
    "                pass\n",
    "            tmp.update({nombre:valor})\n",
    "        del tmp[\"Name\"]\n",
    "        diccionario.update({nombre_objeto:tmp})\n",
    "# diccionario\n",
    "    return lista_objetos,diccionario\n",
    "materiales, diccionario = load_object(osm,\"OS:Material,\\n\")\n",
    "for objeto in diccionario:\n",
    "    print(objeto)\n",
    "diccionario['madera_L2p2_a0pX'][\"Thermal Absorptance\"]"
   ]
  },
  {
   "cell_type": "code",
   "execution_count": 26,
   "id": "regular-robin",
   "metadata": {
    "scrolled": false
   },
   "outputs": [
    {
     "data": {
      "text/plain": [
       "{'Handle': '2e7157dc-32c2-44e3-9415-7874ececbba9',\n",
       " 'Roughness': 'MediumRough',\n",
       " 'Thickness m': '0.15',\n",
       " 'Conductivity W/m-K': '1.3',\n",
       " 'Density kg/m3': '1800.0',\n",
       " 'Specific Heat J/kg-K': '1000.0',\n",
       " 'Thermal Absorptance': '0.8',\n",
       " 'Solar Absorptance': '0.3'}"
      ]
     },
     "execution_count": 26,
     "metadata": {},
     "output_type": "execute_result"
    }
   ],
   "source": [
    "diccionario[\"concreto_fc150_granzon_L8_a0pX\"]"
   ]
  },
  {
   "cell_type": "code",
   "execution_count": null,
   "id": "waiting-poetry",
   "metadata": {},
   "outputs": [],
   "source": [
    "!pwd"
   ]
  },
  {
   "cell_type": "code",
   "execution_count": null,
   "id": "moving-closer",
   "metadata": {},
   "outputs": [],
   "source": []
  }
 ],
 "metadata": {
  "kernelspec": {
   "display_name": "Python 3",
   "language": "python",
   "name": "python3"
  },
  "language_info": {
   "codemirror_mode": {
    "name": "ipython",
    "version": 3
   },
   "file_extension": ".py",
   "mimetype": "text/x-python",
   "name": "python",
   "nbconvert_exporter": "python",
   "pygments_lexer": "ipython3",
   "version": "3.9.1"
  }
 },
 "nbformat": 4,
 "nbformat_minor": 5
}
