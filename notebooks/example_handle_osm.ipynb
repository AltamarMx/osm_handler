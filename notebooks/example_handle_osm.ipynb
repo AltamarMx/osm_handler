{
 "cells": [
  {
   "cell_type": "code",
   "execution_count": 1,
   "id": "italic-scoop",
   "metadata": {},
   "outputs": [],
   "source": [
    "import osm_handler as osm\n",
    "import pandas as pd\n",
    "from importlib import reload"
   ]
  },
  {
   "cell_type": "code",
   "execution_count": 1,
   "id": "accepting-partner",
   "metadata": {},
   "outputs": [
    {
     "ename": "NameError",
     "evalue": "name 'reload' is not defined",
     "output_type": "error",
     "traceback": [
      "\u001b[0;31m---------------------------------------------------------------------------\u001b[0m",
      "\u001b[0;31mNameError\u001b[0m                                 Traceback (most recent call last)",
      "\u001b[0;32m<ipython-input-1-1d75e6840113>\u001b[0m in \u001b[0;36m<module>\u001b[0;34m\u001b[0m\n\u001b[0;32m----> 1\u001b[0;31m \u001b[0mreload\u001b[0m\u001b[0;34m(\u001b[0m\u001b[0mosm\u001b[0m\u001b[0;34m)\u001b[0m\u001b[0;34m\u001b[0m\u001b[0;34m\u001b[0m\u001b[0m\n\u001b[0m",
      "\u001b[0;31mNameError\u001b[0m: name 'reload' is not defined"
     ]
    }
   ],
   "source": [
    "reload(osm)"
   ]
  },
  {
   "cell_type": "markdown",
   "id": "future-fraction",
   "metadata": {},
   "source": [
    "Paso 1, abrir archivo **osm** y cargar diccionario, modificar si se desea el diccionario"
   ]
  },
  {
   "cell_type": "code",
   "execution_count": null,
   "id": "applied-shanghai",
   "metadata": {},
   "outputs": [],
   "source": []
  },
  {
   "cell_type": "code",
   "execution_count": 5,
   "id": "stuck-neutral",
   "metadata": {},
   "outputs": [
    {
     "name": "stdout",
     "output_type": "stream",
     "text": [
      "hola mundo cruel\n"
     ]
    }
   ],
   "source": [
    "diccionario = osm.get_dictionary_material(\"../osm/edificio_este.osm\")"
   ]
  },
  {
   "cell_type": "code",
   "execution_count": null,
   "id": "olive-bible",
   "metadata": {},
   "outputs": [],
   "source": [
    "diccionario\n"
   ]
  },
  {
   "cell_type": "code",
   "execution_count": null,
   "id": "restricted-consortium",
   "metadata": {
    "scrolled": true
   },
   "outputs": [],
   "source": [
    "for objeto in diccionario:\n",
    "    print(objeto)\n"
   ]
  },
  {
   "cell_type": "code",
   "execution_count": null,
   "id": "earlier-capability",
   "metadata": {},
   "outputs": [],
   "source": [
    "diccionario[\"mortero1:4_L1_a0pX\"]"
   ]
  },
  {
   "cell_type": "code",
   "execution_count": null,
   "id": "regular-robin",
   "metadata": {
    "scrolled": false
   },
   "outputs": [],
   "source": [
    "diccionario[\"concreto_fc150_granzon_L8_a0pX\"][\"Roughness\"]              = \"Smooth\"\n",
    "diccionario[\"concreto_fc150_granzon_L8_a0pX\"][\"Thickness {m}\"]          = 0.7\n",
    "diccionario[\"concreto_fc150_granzon_L8_a0pX\"][\"Conductivity {W/m-K}\"]   = 1.5\n",
    "diccionario[\"concreto_fc150_granzon_L8_a0pX\"][\"Specific Heat {J/kg-K}\"] = 2000\n",
    "diccionario[\"concreto_fc150_granzon_L8_a0pX\"][\"Density {kg/m3}\"]        = 2500\n",
    "diccionario[\"concreto_fc150_granzon_L8_a0pX\"][\"Thermal Absorptance\"]    = 0.2\n",
    "diccionario[\"concreto_fc150_granzon_L8_a0pX\"][\"Solar Absorptance\"]      = 0.3\n",
    "diccionario[\"concreto_fc150_granzon_L8_a0pX\"][\"Visible Absorptance\"]    = 0.4"
   ]
  },
  {
   "cell_type": "code",
   "execution_count": null,
   "id": "moving-closer",
   "metadata": {},
   "outputs": [],
   "source": [
    "# diccionario[\"concreto_fc150_granzon_L8_a0pX\"]"
   ]
  },
  {
   "cell_type": "markdown",
   "id": "packed-folks",
   "metadata": {},
   "source": [
    "Paso 2, guardar nuevo diccionario con en formato JSON"
   ]
  },
  {
   "cell_type": "code",
   "execution_count": null,
   "id": "growing-allah",
   "metadata": {},
   "outputs": [],
   "source": [
    "save_dict(\"nuevecito.json\",diccionario)"
   ]
  },
  {
   "cell_type": "markdown",
   "id": "impossible-surprise",
   "metadata": {},
   "source": [
    "Paso **3**, cargar diccionario en Python\n"
   ]
  },
  {
   "cell_type": "code",
   "execution_count": null,
   "id": "thermal-confidence",
   "metadata": {},
   "outputs": [],
   "source": [
    "nuevecito = load_dict(\"nuevecito.json\")\n",
    "nuevecito[\"concreto_fc150_granzon_L8_a0pX\"]"
   ]
  },
  {
   "cell_type": "markdown",
   "id": "criminal-merchant",
   "metadata": {},
   "source": [
    "Paso **4**, guardar diccionario en OSM"
   ]
  },
  {
   "cell_type": "code",
   "execution_count": null,
   "id": "valued-carnival",
   "metadata": {},
   "outputs": [],
   "source": [
    "save_osm(\"../osm/edificio_este.osm\",nuevecito,\"nuevo_osm.osm\")"
   ]
  },
  {
   "cell_type": "code",
   "execution_count": null,
   "id": "sacred-angola",
   "metadata": {},
   "outputs": [],
   "source": []
  },
  {
   "cell_type": "code",
   "execution_count": null,
   "id": "hazardous-memphis",
   "metadata": {},
   "outputs": [],
   "source": []
  },
  {
   "cell_type": "code",
   "execution_count": null,
   "id": "promotional-decrease",
   "metadata": {},
   "outputs": [],
   "source": []
  },
  {
   "cell_type": "code",
   "execution_count": 3,
   "id": "fuzzy-regular",
   "metadata": {},
   "outputs": [],
   "source": [
    "# import this"
   ]
  },
  {
   "cell_type": "code",
   "execution_count": null,
   "id": "minimal-genius",
   "metadata": {},
   "outputs": [],
   "source": []
  }
 ],
 "metadata": {
  "kernelspec": {
   "display_name": "Python 3",
   "language": "python",
   "name": "python3"
  },
  "language_info": {
   "codemirror_mode": {
    "name": "ipython",
    "version": 3
   },
   "file_extension": ".py",
   "mimetype": "text/x-python",
   "name": "python",
   "nbconvert_exporter": "python",
   "pygments_lexer": "ipython3",
   "version": "3.9.1"
  }
 },
 "nbformat": 4,
 "nbformat_minor": 5
}
