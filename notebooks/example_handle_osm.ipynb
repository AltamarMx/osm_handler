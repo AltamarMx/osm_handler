{
 "cells": [
  {
   "cell_type": "code",
   "execution_count": 1,
   "id": "italic-scoop",
   "metadata": {},
   "outputs": [],
   "source": [
    "from osm_handler import *\n",
    "import pandas as pd"
   ]
  },
  {
   "cell_type": "markdown",
   "id": "future-fraction",
   "metadata": {},
   "source": [
    "Paso 1, abrir archivo **osm** y cargar diccionario, modificar si se desea el diccionario"
   ]
  },
  {
   "cell_type": "code",
   "execution_count": 2,
   "id": "stuck-neutral",
   "metadata": {},
   "outputs": [],
   "source": [
    "diccionario = get_dictionary_material(\"../osm/edificio_este.osm\")"
   ]
  },
  {
   "cell_type": "code",
   "execution_count": 3,
   "id": "olive-bible",
   "metadata": {},
   "outputs": [
    {
     "data": {
      "text/plain": [
       "{'concreto_fc150_granzon_L8_a0pX': {'Handle': '{2e7157dc-32c2-44e3-9415-7874ececbba9}',\n",
       "  'Name': 'concreto_fc150_granzon_L8_a0pX',\n",
       "  'Roughness': 'MediumRough',\n",
       "  'Thickness {m}': 0.15,\n",
       "  'Conductivity {W/m-K}': 1.3,\n",
       "  'Density {kg/m3}': 1800.0,\n",
       "  'Specific Heat {J/kg-K}': 1000.0,\n",
       "  'Thermal Absorptance': 0.8,\n",
       "  'Solar Absorptance': 0.3,\n",
       "  'Visible Absorptance': 0.7},\n",
       " 'concreto_fc150_L6_a0pX': {'Handle': '{acc9b317-088e-4fa3-a849-9aec59e11271}',\n",
       "  'Name': 'concreto_fc150_L6_a0pX',\n",
       "  'Roughness': 'MediumRough',\n",
       "  'Thickness {m}': 0.15,\n",
       "  'Conductivity {W/m-K}': 1.3,\n",
       "  'Density {kg/m3}': 1800.0,\n",
       "  'Specific Heat {J/kg-K}': 1000.0,\n",
       "  'Thermal Absorptance': '',\n",
       "  'Solar Absorptance': 0.5,\n",
       "  'Visible Absorptance': 0.7},\n",
       " 'concreto_fc250_L30_a0pX': {'Handle': '{fe21d530-02b9-4f7e-8369-6955e97efd5a}',\n",
       "  'Name': 'concreto_fc250_L30_a0pX',\n",
       "  'Roughness': 'MediumRough',\n",
       "  'Thickness {m}': 0.3,\n",
       "  'Conductivity {W/m-K}': 1.3,\n",
       "  'Density {kg/m3}': 1800.0,\n",
       "  'Specific Heat {J/kg-K}': 1000.0,\n",
       "  'Thermal Absorptance': 0.8,\n",
       "  'Solar Absorptance': 0.3,\n",
       "  'Visible Absorptance': 0.7},\n",
       " 'madera_L2p2_a0pX': {'Handle': '{8f09ab24-4c76-41a0-aafb-911a9de403f8}',\n",
       "  'Name': 'madera_L2p2_a0pX',\n",
       "  'Roughness': 'Smooth',\n",
       "  'Thickness {m}': 0.02,\n",
       "  'Conductivity {W/m-K}': 0.14,\n",
       "  'Density {kg/m3}': 600.0,\n",
       "  'Specific Heat {J/kg-K}': 1210.0,\n",
       "  'Thermal Absorptance': 0.8,\n",
       "  'Solar Absorptance': 0.3,\n",
       "  'Visible Absorptance': 0.7},\n",
       " 'marmol_L2_a0pX': {'Handle': '{9c0ea449-48e9-4c01-b8c0-5a414bb4b01c}',\n",
       "  'Name': 'marmol_L2_a0pX',\n",
       "  'Roughness': 'Smooth',\n",
       "  'Thickness {m}': 0.02,\n",
       "  'Conductivity {W/m-K}': 2.51,\n",
       "  'Density {kg/m3}': 2700.0,\n",
       "  'Specific Heat {J/kg-K}': 879.0,\n",
       "  'Thermal Absorptance': '',\n",
       "  'Solar Absorptance': 0.5,\n",
       "  'Visible Absorptance': 0.7},\n",
       " 'concreto_fc250_L20_a0pX': {'Handle': '{5cd569c2-f644-4e8f-9141-bf790450e27a}',\n",
       "  'Name': 'concreto_fc250_L20_a0pX',\n",
       "  'Roughness': 'MediumRough',\n",
       "  'Thickness {m}': 0.2,\n",
       "  'Conductivity {W/m-K}': 1.3,\n",
       "  'Density {kg/m3}': 1800.0,\n",
       "  'Specific Heat {J/kg-K}': 1000.0,\n",
       "  'Thermal Absorptance': 0.9,\n",
       "  'Solar Absorptance': 0.5,\n",
       "  'Visible Absorptance': 0.7},\n",
       " 'mortero1:4_L1_a0pX': {'Handle': '{da0ae925-c712-45dc-a93f-babc664e7911}',\n",
       "  'Name': 'mortero1:4_L1_a0pX',\n",
       "  'Roughness': 'MediumRough',\n",
       "  'Thickness {m}': 0.01,\n",
       "  'Conductivity {W/m-K}': 1.0,\n",
       "  'Density {kg/m3}': 1800.0,\n",
       "  'Specific Heat {J/kg-K}': 100.0,\n",
       "  'Thermal Absorptance': 0.9,\n",
       "  'Solar Absorptance': 0.7,\n",
       "  'Visible Absorptance': 0.7},\n",
       " 'loseta_Lx_a0pX': {'Handle': '{e16848b4-1484-4261-862a-9a7dd6b3ac04}',\n",
       "  'Name': 'loseta_Lx_a0pX',\n",
       "  'Roughness': 'Smooth',\n",
       "  'Thickness {m}': 0.01,\n",
       "  'Conductivity {W/m-K}': 2.2,\n",
       "  'Density {kg/m3}': 260.0,\n",
       "  'Specific Heat {J/kg-K}': 100.0,\n",
       "  'Thermal Absorptance': 0.9,\n",
       "  'Solar Absorptance': 0.7,\n",
       "  'Visible Absorptance': 0.7},\n",
       " 'impermeabilizante_LX_a0p3': {'Handle': '{d2d407be-ecda-4a03-9396-eac43147510b}',\n",
       "  'Name': 'impermeabilizante_LX_a0p3',\n",
       "  'Roughness': 'VeryRough',\n",
       "  'Thickness {m}': 0.0095,\n",
       "  'Conductivity {W/m-K}': 0.16,\n",
       "  'Density {kg/m3}': 1121.29,\n",
       "  'Specific Heat {J/kg-K}': 1460.0,\n",
       "  'Thermal Absorptance': '',\n",
       "  'Solar Absorptance': 0.7,\n",
       "  'Visible Absorptance': 0.7},\n",
       " 'fachaleta_L1_a0p3': {'Handle': '{45bdcac2-5b3a-40bc-b7bf-02f626071ad6}',\n",
       "  'Name': 'fachaleta_L1_a0p3',\n",
       "  'Roughness': 'Smooth',\n",
       "  'Thickness {m}': 0.01,\n",
       "  'Conductivity {W/m-K}': 0.7,\n",
       "  'Density {kg/m3}': 1970.0,\n",
       "  'Specific Heat {J/kg-K}': 100.0,\n",
       "  'Thermal Absorptance': 0.9,\n",
       "  'Solar Absorptance': 0.7,\n",
       "  'Visible Absorptance': 0.7},\n",
       " 'concreto_fc200_L15_a0pX': {'Handle': '{dfef79a3-58a5-41b7-8614-5a9b90dacf84}',\n",
       "  'Name': 'concreto_fc200_L15_a0pX',\n",
       "  'Roughness': 'MediumRough',\n",
       "  'Thickness {m}': 0.15,\n",
       "  'Conductivity {W/m-K}': 1.3,\n",
       "  'Density {kg/m3}': 1800.0,\n",
       "  'Specific Heat {J/kg-K}': 100.0,\n",
       "  'Thermal Absorptance': 0.9,\n",
       "  'Solar Absorptance': 0.7,\n",
       "  'Visible Absorptance': 0.7},\n",
       " 'durock_L1p27_a0p3': {'Handle': '{6c741245-1f77-46ed-b76a-c9c55425e049}',\n",
       "  'Name': 'durock_L1p27_a0p3',\n",
       "  'Roughness': 'Smooth',\n",
       "  'Thickness {m}': 0.0127,\n",
       "  'Conductivity {W/m-K}': 0.029,\n",
       "  'Density {kg/m3}': 1920.0,\n",
       "  'Specific Heat {J/kg-K}': 100.0,\n",
       "  'Thermal Absorptance': 0.9,\n",
       "  'Solar Absorptance': 0.7,\n",
       "  'Visible Absorptance': 0.7},\n",
       " 'concreto_fc250_L15_a0pX': {'Handle': '{689c6f62-e818-4900-947f-df071b534228}',\n",
       "  'Name': 'concreto_fc250_L15_a0pX',\n",
       "  'Roughness': 'MediumRough',\n",
       "  'Thickness {m}': 0.15,\n",
       "  'Conductivity {W/m-K}': 1.3,\n",
       "  'Density {kg/m3}': 1800.0,\n",
       "  'Specific Heat {J/kg-K}': 100.0,\n",
       "  'Thermal Absorptance': 0.9,\n",
       "  'Solar Absorptance': 0.7,\n",
       "  'Visible Absorptance': 0.7},\n",
       " 'concreto_fc150_marmol_L8_a0pX': {'Handle': '{0da4b7d5-e0eb-4088-a4fe-b79303d443c8}',\n",
       "  'Name': 'concreto_fc150_marmol_L8_a0pX',\n",
       "  'Roughness': 'MediumRough',\n",
       "  'Thickness {m}': 0.15,\n",
       "  'Conductivity {W/m-K}': 1.3,\n",
       "  'Density {kg/m3}': 1800.0,\n",
       "  'Specific Heat {J/kg-K}': 100.0,\n",
       "  'Thermal Absorptance': 0.9,\n",
       "  'Solar Absorptance': 0.7,\n",
       "  'Visible Absorptance': 0.7},\n",
       " 'concreto_fc150_L8_a0pX': {'Handle': '{f2d7c8c0-2676-4822-8fab-1204f6f45bc9}',\n",
       "  'Name': 'concreto_fc150_L8_a0pX',\n",
       "  'Roughness': 'MediumRough',\n",
       "  'Thickness {m}': 0.08,\n",
       "  'Conductivity {W/m-K}': 1.3,\n",
       "  'Density {kg/m3}': 1800.0,\n",
       "  'Specific Heat {J/kg-K}': 100.0,\n",
       "  'Thermal Absorptance': 0.9,\n",
       "  'Solar Absorptance': 0.7,\n",
       "  'Visible Absorptance': 0.7},\n",
       " 'crest_L1_a0pX': {'Handle': '{b5b80390-3daa-4e82-bb94-d2327bf4f5e0}',\n",
       "  'Name': 'crest_L1_a0pX',\n",
       "  'Roughness': 'MediumRough',\n",
       "  'Thickness {m}': 0.01,\n",
       "  'Conductivity {W/m-K}': 2.0,\n",
       "  'Density {kg/m3}': 200.0,\n",
       "  'Specific Heat {J/kg-K}': 100.0,\n",
       "  'Thermal Absorptance': 0.9,\n",
       "  'Solar Absorptance': 0.7,\n",
       "  'Visible Absorptance': 0.7},\n",
       " 'tabique_hueco_L1_a0pX': {'Handle': '{5a7c98c3-b38a-4d9f-8df5-5085a28393ac}',\n",
       "  'Name': 'tabique_hueco_L1_a0pX',\n",
       "  'Roughness': 'MediumRough',\n",
       "  'Thickness {m}': 0.02,\n",
       "  'Conductivity {W/m-K}': 1.25,\n",
       "  'Density {kg/m3}': 1000.0,\n",
       "  'Specific Heat {J/kg-K}': 960.0,\n",
       "  'Thermal Absorptance': 0.25,\n",
       "  'Solar Absorptance': 0.7,\n",
       "  'Visible Absorptance': 0.7},\n",
       " 'concreto_fc150_L5_a0pX': {'Handle': '{f5ed155a-80af-463b-99c4-10e7fd767e53}',\n",
       "  'Name': 'concreto_fc150_L5_a0pX',\n",
       "  'Roughness': 'MediumRough',\n",
       "  'Thickness {m}': 0.15,\n",
       "  'Conductivity {W/m-K}': 1.3,\n",
       "  'Density {kg/m3}': 1800.0,\n",
       "  'Specific Heat {J/kg-K}': 100.0,\n",
       "  'Thermal Absorptance': 0.9,\n",
       "  'Solar Absorptance': 0.7,\n",
       "  'Visible Absorptance': 0.7},\n",
       " 'lana_L6p35_a0p3': {'Handle': '{b9051bf4-da8e-4a8e-b766-9f94fe1742a9}',\n",
       "  'Name': 'lana_L6p35_a0p3',\n",
       "  'Roughness': 'Rough',\n",
       "  'Thickness {m}': 0.0635,\n",
       "  'Conductivity {W/m-K}': 0.045,\n",
       "  'Density {kg/m3}': 10.0,\n",
       "  'Specific Heat {J/kg-K}': 100.0,\n",
       "  'Thermal Absorptance': 0.9,\n",
       "  'Solar Absorptance': 0.7,\n",
       "  'Visible Absorptance': 0.7},\n",
       " 'tabique_hueco_L2_a0pX': {'Handle': '{10ad54b5-a7ef-43b1-8875-e263b5e31599}',\n",
       "  'Name': 'tabique_hueco_L2_a0pX',\n",
       "  'Roughness': 'MediumRough',\n",
       "  'Thickness {m}': 0.1,\n",
       "  'Conductivity {W/m-K}': 0.5144,\n",
       "  'Density {kg/m3}': 1.29,\n",
       "  'Specific Heat {J/kg-K}': 100.0,\n",
       "  'Thermal Absorptance': 0.9,\n",
       "  'Solar Absorptance': 0.7,\n",
       "  'Visible Absorptance': 0.7},\n",
       " 'tabique_hueco_L3_a0pX': {'Handle': '{ddba7331-f1d3-4416-ab87-11f06a5d1757}',\n",
       "  'Name': 'tabique_hueco_L3_a0pX',\n",
       "  'Roughness': 'MediumRough',\n",
       "  'Thickness {m}': 0.02,\n",
       "  'Conductivity {W/m-K}': 1.25,\n",
       "  'Density {kg/m3}': 1000.0,\n",
       "  'Specific Heat {J/kg-K}': 960.0,\n",
       "  'Thermal Absorptance': 0.25,\n",
       "  'Solar Absorptance': 0.7,\n",
       "  'Visible Absorptance': 0.7},\n",
       " 'vermiculita_LX_a0pX': {'Handle': '{7576ece9-5186-4898-af15-4a43973ad2e0}',\n",
       "  'Name': 'vermiculita_LX_a0pX',\n",
       "  'Roughness': 'Rough',\n",
       "  'Thickness {m}': 0.5,\n",
       "  'Conductivity {W/m-K}': 0.7,\n",
       "  'Density {kg/m3}': 1970.0,\n",
       "  'Specific Heat {J/kg-K}': 100.0,\n",
       "  'Thermal Absorptance': 0.9,\n",
       "  'Solar Absorptance': 0.7,\n",
       "  'Visible Absorptance': 0.7},\n",
       " 'concreto_fc200_L20_a0pX': {'Handle': '{6ce997c4-dc64-4830-83a0-b75c2f1f22c3}',\n",
       "  'Name': 'concreto_fc200_L20_a0pX',\n",
       "  'Roughness': 'MediumRough',\n",
       "  'Thickness {m}': 0.2,\n",
       "  'Conductivity {W/m-K}': 1.3,\n",
       "  'Density {kg/m3}': 1800.0,\n",
       "  'Specific Heat {J/kg-K}': 100.0,\n",
       "  'Thermal Absorptance': 0.9,\n",
       "  'Solar Absorptance': 0.7,\n",
       "  'Visible Absorptance': 0.7},\n",
       " 'aluminio': {'Handle': '{4335303a-be98-4bf6-9d75-47daa7c83d63}',\n",
       "  'Name': 'aluminio',\n",
       "  'Roughness': 'Smooth',\n",
       "  'Thickness {m}': 0.05,\n",
       "  'Conductivity {W/m-K}': 225.94,\n",
       "  'Density {kg/m3}': 2698.0,\n",
       "  'Specific Heat {J/kg-K}': 100.0,\n",
       "  'Thermal Absorptance': 0.9,\n",
       "  'Solar Absorptance': 0.7,\n",
       "  'Visible Absorptance': 0.7},\n",
       " 'Metal Decking': {'Handle': '{9868efc3-e482-4a62-9e41-a3e110ef1378}',\n",
       "  'Name': 'Metal Decking',\n",
       "  'Roughness': 'Smooth',\n",
       "  'Thickness {m}': 0.0015,\n",
       "  'Conductivity {W/m-K}': 45.006,\n",
       "  'Density {kg/m3}': 7680.0,\n",
       "  'Specific Heat {J/kg-K}': 418.4,\n",
       "  'Thermal Absorptance': '',\n",
       "  'Solar Absorptance': 0.6,\n",
       "  'Visible Absorptance': 0.7},\n",
       " 'fachaleta_L1_a0p7': {'Handle': '{ab80d268-8bfc-479a-874e-4b95e61f43b1}',\n",
       "  'Name': 'fachaleta_L1_a0p7',\n",
       "  'Roughness': 'Smooth',\n",
       "  'Thickness {m}': 0.01,\n",
       "  'Conductivity {W/m-K}': 0.7,\n",
       "  'Density {kg/m3}': 1970.0,\n",
       "  'Specific Heat {J/kg-K}': 100.0,\n",
       "  'Thermal Absorptance': 0.9,\n",
       "  'Solar Absorptance': 0.7,\n",
       "  'Visible Absorptance': 0.7},\n",
       " 'F16 Acoustic tile': {'Handle': '{16e9d82a-8745-4b32-8771-c854373e6417}',\n",
       "  'Name': 'F16 Acoustic tile',\n",
       "  'Roughness': 'MediumSmooth',\n",
       "  'Thickness {m}': 0.0191,\n",
       "  'Conductivity {W/m-K}': 0.06,\n",
       "  'Density {kg/m3}': 368.0,\n",
       "  'Specific Heat {J/kg-K}': 590.000000000002,\n",
       "  'Thermal Absorptance': 0.9,\n",
       "  'Solar Absorptance': 0.3,\n",
       "  'Visible Absorptance': 0.7}}"
      ]
     },
     "execution_count": 3,
     "metadata": {},
     "output_type": "execute_result"
    }
   ],
   "source": [
    "diccionario\n"
   ]
  },
  {
   "cell_type": "code",
   "execution_count": 4,
   "id": "restricted-consortium",
   "metadata": {
    "scrolled": true
   },
   "outputs": [
    {
     "name": "stdout",
     "output_type": "stream",
     "text": [
      "concreto_fc150_granzon_L8_a0pX\n",
      "concreto_fc150_L6_a0pX\n",
      "concreto_fc250_L30_a0pX\n",
      "madera_L2p2_a0pX\n",
      "marmol_L2_a0pX\n",
      "concreto_fc250_L20_a0pX\n",
      "mortero1:4_L1_a0pX\n",
      "loseta_Lx_a0pX\n",
      "impermeabilizante_LX_a0p3\n",
      "fachaleta_L1_a0p3\n",
      "concreto_fc200_L15_a0pX\n",
      "durock_L1p27_a0p3\n",
      "concreto_fc250_L15_a0pX\n",
      "concreto_fc150_marmol_L8_a0pX\n",
      "concreto_fc150_L8_a0pX\n",
      "crest_L1_a0pX\n",
      "tabique_hueco_L1_a0pX\n",
      "concreto_fc150_L5_a0pX\n",
      "lana_L6p35_a0p3\n",
      "tabique_hueco_L2_a0pX\n",
      "tabique_hueco_L3_a0pX\n",
      "vermiculita_LX_a0pX\n",
      "concreto_fc200_L20_a0pX\n",
      "aluminio\n",
      "Metal Decking\n",
      "fachaleta_L1_a0p7\n",
      "F16 Acoustic tile\n"
     ]
    }
   ],
   "source": [
    "for objeto in diccionario:\n",
    "    print(objeto)\n"
   ]
  },
  {
   "cell_type": "code",
   "execution_count": 5,
   "id": "earlier-capability",
   "metadata": {},
   "outputs": [
    {
     "data": {
      "text/plain": [
       "{'Handle': '{da0ae925-c712-45dc-a93f-babc664e7911}',\n",
       " 'Name': 'mortero1:4_L1_a0pX',\n",
       " 'Roughness': 'MediumRough',\n",
       " 'Thickness {m}': 0.01,\n",
       " 'Conductivity {W/m-K}': 1.0,\n",
       " 'Density {kg/m3}': 1800.0,\n",
       " 'Specific Heat {J/kg-K}': 100.0,\n",
       " 'Thermal Absorptance': 0.9,\n",
       " 'Solar Absorptance': 0.7,\n",
       " 'Visible Absorptance': 0.7}"
      ]
     },
     "execution_count": 5,
     "metadata": {},
     "output_type": "execute_result"
    }
   ],
   "source": [
    "diccionario[\"mortero1:4_L1_a0pX\"]"
   ]
  },
  {
   "cell_type": "code",
   "execution_count": 11,
   "id": "regular-robin",
   "metadata": {
    "scrolled": false
   },
   "outputs": [],
   "source": [
    "diccionario[\"concreto_fc150_granzon_L8_a0pX\"][\"Roughness\"]              = \"Smooth\"\n",
    "diccionario[\"concreto_fc150_granzon_L8_a0pX\"][\"Thickness {m}\"]          = 0.7\n",
    "diccionario[\"concreto_fc150_granzon_L8_a0pX\"][\"Conductivity {W/m-K}\"]   = 1.5\n",
    "diccionario[\"concreto_fc150_granzon_L8_a0pX\"][\"Specific Heat {J/kg-K}\"] = 2000\n",
    "diccionario[\"concreto_fc150_granzon_L8_a0pX\"][\"Density {kg/m3}\"]        = 2500\n",
    "diccionario[\"concreto_fc150_granzon_L8_a0pX\"][\"Thermal Absorptance\"]    = 0.2\n",
    "diccionario[\"concreto_fc150_granzon_L8_a0pX\"][\"Solar Absorptance\"]      = 0.3\n",
    "diccionario[\"concreto_fc150_granzon_L8_a0pX\"][\"Visible Absorptance\"]    = 0.4"
   ]
  },
  {
   "cell_type": "code",
   "execution_count": 12,
   "id": "moving-closer",
   "metadata": {},
   "outputs": [],
   "source": [
    "# diccionario[\"concreto_fc150_granzon_L8_a0pX\"]"
   ]
  },
  {
   "cell_type": "markdown",
   "id": "packed-folks",
   "metadata": {},
   "source": [
    "Paso 2, guardar nuevo diccionario con en formato JSON"
   ]
  },
  {
   "cell_type": "code",
   "execution_count": 13,
   "id": "growing-allah",
   "metadata": {},
   "outputs": [
    {
     "name": "stdout",
     "output_type": "stream",
     "text": [
      "saved: nuevecito.json\n"
     ]
    }
   ],
   "source": [
    "save_dict(\"nuevecito.json\",diccionario)"
   ]
  },
  {
   "cell_type": "markdown",
   "id": "impossible-surprise",
   "metadata": {},
   "source": [
    "Paso **3**, cargar diccionario en Python\n"
   ]
  },
  {
   "cell_type": "code",
   "execution_count": 14,
   "id": "thermal-confidence",
   "metadata": {},
   "outputs": [
    {
     "data": {
      "text/plain": [
       "{'Handle': '{2e7157dc-32c2-44e3-9415-7874ececbba9}',\n",
       " 'Name': 'concreto_fc150_granzon_L8_a0pX',\n",
       " 'Roughness': 'Smooth',\n",
       " 'Thickness {m}': 0.7,\n",
       " 'Conductivity {W/m-K}': 1.5,\n",
       " 'Density {kg/m3}': 2500,\n",
       " 'Specific Heat {J/kg-K}': 2000,\n",
       " 'Thermal Absorptance': 0.2,\n",
       " 'Solar Absorptance': 0.3,\n",
       " 'Visible Absorptance': 0.4}"
      ]
     },
     "execution_count": 14,
     "metadata": {},
     "output_type": "execute_result"
    }
   ],
   "source": [
    "nuevecito = load_dict(\"nuevecito.json\")\n",
    "nuevecito[\"concreto_fc150_granzon_L8_a0pX\"]"
   ]
  },
  {
   "cell_type": "markdown",
   "id": "criminal-merchant",
   "metadata": {},
   "source": [
    "Paso **4**, guardar diccionario en OSM"
   ]
  },
  {
   "cell_type": "code",
   "execution_count": 15,
   "id": "valued-carnival",
   "metadata": {},
   "outputs": [
    {
     "name": "stdout",
     "output_type": "stream",
     "text": [
      "saved: rest.osm\n",
      "saved: material.osm\n",
      "saved file: nuevo_osm.osm\n"
     ]
    }
   ],
   "source": [
    "save_osm(\"../osm/edificio_este.osm\",nuevecito,\"nuevo_osm.osm\")"
   ]
  },
  {
   "cell_type": "code",
   "execution_count": null,
   "id": "sacred-angola",
   "metadata": {},
   "outputs": [],
   "source": []
  },
  {
   "cell_type": "code",
   "execution_count": null,
   "id": "hazardous-memphis",
   "metadata": {},
   "outputs": [],
   "source": []
  },
  {
   "cell_type": "code",
   "execution_count": null,
   "id": "promotional-decrease",
   "metadata": {},
   "outputs": [],
   "source": []
  },
  {
   "cell_type": "code",
   "execution_count": null,
   "id": "fuzzy-regular",
   "metadata": {},
   "outputs": [],
   "source": []
  }
 ],
 "metadata": {
  "kernelspec": {
   "display_name": "Python 3",
   "language": "python",
   "name": "python3"
  },
  "language_info": {
   "codemirror_mode": {
    "name": "ipython",
    "version": 3
   },
   "file_extension": ".py",
   "mimetype": "text/x-python",
   "name": "python",
   "nbconvert_exporter": "python",
   "pygments_lexer": "ipython3",
   "version": "3.9.1"
  }
 },
 "nbformat": 4,
 "nbformat_minor": 5
}
