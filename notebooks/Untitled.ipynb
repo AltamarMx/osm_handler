{
 "cells": [
  {
   "cell_type": "code",
   "execution_count": 1,
   "metadata": {},
   "outputs": [],
   "source": [
    "def open_osm(osm_file): \n",
    "    archivo = open(osm_file,\"r\")\n",
    "    osm = archivo.readlines()\n",
    "    return osm"
   ]
  },
  {
   "cell_type": "code",
   "execution_count": 2,
   "metadata": {},
   "outputs": [],
   "source": [
    "def objects_to_list(osm):\n",
    "    objeto = []\n",
    "    coma   = []\n",
    "    for i,renglon in enumerate(osm):\n",
    "        if renglon.startswith(\"OS:\"): #localiza el inicio de un objeto\n",
    "            objeto.append(i)\n",
    "        if \";\" in renglon:  #localiza el final de un objeto\n",
    "            coma.append(i)\n",
    "    osm_lista = []\n",
    "    for i,j in zip(objeto,coma):\n",
    "        \n",
    "        osm_lista.append(osm[i:j+1]) # el +1 porque las listas no son inclusivas\n",
    "    return osm_lista  "
   ]
  },
  {
   "cell_type": "code",
   "execution_count": 4,
   "metadata": {},
   "outputs": [],
   "source": [
    "osm = open_osm(\"../osm/edificio_miriam.osm\")"
   ]
  },
  {
   "cell_type": "code",
   "execution_count": 6,
   "metadata": {},
   "outputs": [],
   "source": [
    "mystring = \"OS:ScheduleTypeLimits,\""
   ]
  },
  {
   "cell_type": "code",
   "execution_count": 10,
   "metadata": {},
   "outputs": [
    {
     "data": {
      "text/plain": [
       "'ScheduleTypeLimits'"
      ]
     },
     "execution_count": 10,
     "metadata": {},
     "output_type": "execute_result"
    }
   ],
   "source": [
    "mystring.split(\":\")[1].split(\",\")[0]"
   ]
  },
  {
   "cell_type": "code",
   "execution_count": null,
   "metadata": {},
   "outputs": [],
   "source": []
  }
 ],
 "metadata": {
  "kernelspec": {
   "display_name": "Python 3",
   "language": "python",
   "name": "python3"
  },
  "language_info": {
   "codemirror_mode": {
    "name": "ipython",
    "version": 3
   },
   "file_extension": ".py",
   "mimetype": "text/x-python",
   "name": "python",
   "nbconvert_exporter": "python",
   "pygments_lexer": "ipython3",
   "version": "3.8.10"
  }
 },
 "nbformat": 4,
 "nbformat_minor": 4
}
