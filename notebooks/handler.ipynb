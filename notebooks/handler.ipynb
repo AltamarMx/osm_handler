{
 "cells": [
  {
   "cell_type": "code",
   "execution_count": 1,
   "metadata": {},
   "outputs": [],
   "source": [
    "import handler as osm\n",
    "# from importlib import reload"
   ]
  },
  {
   "cell_type": "code",
   "execution_count": 3,
   "metadata": {},
   "outputs": [],
   "source": [
    "# reload(osm)\n",
    "miriam = osm.load_dict_osm(\"../osm/edificio_miriam.osm\")\n",
    "# miriam"
   ]
  },
  {
   "cell_type": "code",
   "execution_count": 4,
   "metadata": {},
   "outputs": [
    {
     "name": "stdout",
     "output_type": "stream",
     "text": [
      "saved: miriam.json\n"
     ]
    }
   ],
   "source": [
    "osm.save_dict(\"miriam.json\",miriam)"
   ]
  },
  {
   "cell_type": "code",
   "execution_count": 5,
   "metadata": {},
   "outputs": [
    {
     "data": {
      "text/plain": [
       "{'Name': 'madera_L20_a30',\n",
       " 'Roughness': 'Smooth',\n",
       " 'Thickness {m}': 0.02,\n",
       " 'Conductivity {W/m-K}': 0.14,\n",
       " 'Density {kg/m3}': 600.0,\n",
       " 'Specific Heat {J/kg-K}': 1210.0,\n",
       " 'Thermal Absorptance': 0.8,\n",
       " 'Solar Absorptance': 0.3,\n",
       " 'Visible Absorptance': 0.89,\n",
       " 'Comments': 'Puse un valor irreal de absortancia'}"
      ]
     },
     "execution_count": 5,
     "metadata": {},
     "output_type": "execute_result"
    }
   ],
   "source": [
    "miriam[\"madera_L20_a30\"][\"Visible Absorptance\"] = .89\n",
    "miriam[\"madera_L20_a30\"][\"Comments\"] = \"Puse un valor irreal de absortancia\"\n",
    "miriam[\"madera_L20_a30\"]"
   ]
  },
  {
   "cell_type": "code",
   "execution_count": 6,
   "metadata": {},
   "outputs": [
    {
     "name": "stdout",
     "output_type": "stream",
     "text": [
      "saved: actualizado.json\n"
     ]
    }
   ],
   "source": [
    "osm.save_dict(\"actualizado.json\",miriam)"
   ]
  },
  {
   "cell_type": "code",
   "execution_count": 8,
   "metadata": {},
   "outputs": [
    {
     "data": {
      "text/plain": [
       "{'Name': 'madera_L20_a30',\n",
       " 'Roughness': 'Smooth',\n",
       " 'Thickness {m}': 0.02,\n",
       " 'Conductivity {W/m-K}': 0.14,\n",
       " 'Density {kg/m3}': 600.0,\n",
       " 'Specific Heat {J/kg-K}': 1210.0,\n",
       " 'Thermal Absorptance': 0.8,\n",
       " 'Solar Absorptance': 0.3,\n",
       " 'Visible Absorptance': 0.89,\n",
       " 'Comments': 'Puse un valor irreal de absortancia'}"
      ]
     },
     "execution_count": 8,
     "metadata": {},
     "output_type": "execute_result"
    }
   ],
   "source": [
    "actualizado = osm.load_dict_json(\"actualizado.json\")\n",
    "actualizado[\"madera_L20_a30\"]"
   ]
  },
  {
   "cell_type": "code",
   "execution_count": 10,
   "metadata": {},
   "outputs": [
    {
     "name": "stdout",
     "output_type": "stream",
     "text": [
      "saved: tmp.osm\n",
      "saved: tmp2.osm\n",
      "saved file: actualizado.osm\n",
      "archivos tmp.osm y tmp2.osm borrados\n",
      "\n"
     ]
    }
   ],
   "source": [
    "osm.update_osm(\"../osm/edificio_miriam.osm\",actualizado)"
   ]
  },
  {
   "cell_type": "code",
   "execution_count": null,
   "metadata": {},
   "outputs": [],
   "source": [
    "m1 = osm.update_dict(materiales,actualizado) \n",
    "m1['madera_L2p2_a0pX']"
   ]
  },
  {
   "cell_type": "code",
   "execution_count": null,
   "metadata": {},
   "outputs": [],
   "source": [
    "m1"
   ]
  },
  {
   "cell_type": "code",
   "execution_count": null,
   "metadata": {},
   "outputs": [],
   "source": []
  }
 ],
 "metadata": {
  "kernelspec": {
   "display_name": "Python 3",
   "language": "python",
   "name": "python3"
  },
  "language_info": {
   "codemirror_mode": {
    "name": "ipython",
    "version": 3
   },
   "file_extension": ".py",
   "mimetype": "text/x-python",
   "name": "python",
   "nbconvert_exporter": "python",
   "pygments_lexer": "ipython3",
   "version": "3.8.5"
  }
 },
 "nbformat": 4,
 "nbformat_minor": 5
}
