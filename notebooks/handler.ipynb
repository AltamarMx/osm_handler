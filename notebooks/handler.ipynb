{
 "cells": [
  {
   "cell_type": "code",
   "execution_count": 1,
   "id": "stupid-substance",
   "metadata": {},
   "outputs": [],
   "source": [
    "import handler as hdl\n",
    "from importlib import reload"
   ]
  },
  {
   "cell_type": "code",
   "execution_count": 2,
   "id": "deluxe-scanner",
   "metadata": {},
   "outputs": [],
   "source": [
    "reload(hdl)\n",
    "osm,resto = hdl.load_dictionary(\"../osm/edificio_este.osm\")\n"
   ]
  },
  {
   "cell_type": "code",
   "execution_count": 3,
   "id": "average-feature",
   "metadata": {},
   "outputs": [
    {
     "data": {
      "text/plain": [
       "['OS:Material',\n",
       " '{16e9d82a-8745-4b32-8771-c854373e6417},Handle',\n",
       " 'F16 Acoustic tile,Name',\n",
       " 'MediumSmooth,Roughness',\n",
       " '0.0191,Thickness {m}',\n",
       " '0.06,Conductivity {W/m-K}',\n",
       " '368.0,Density {kg/m3}',\n",
       " '590.000000000002,Specific Heat {J/kg-K}',\n",
       " '0.9,Thermal Absorptance',\n",
       " '0.3,Solar Absorptance',\n",
       " '0.3;Visible Absorptance']"
      ]
     },
     "execution_count": 3,
     "metadata": {},
     "output_type": "execute_result"
    }
   ],
   "source": [
    "osm[-1]"
   ]
  },
  {
   "cell_type": "code",
   "execution_count": 4,
   "id": "respiratory-butter",
   "metadata": {},
   "outputs": [
    {
     "data": {
      "text/plain": [
       "['OS:Surface',\n",
       " '{bbe76495-d4f9-4f8c-8c03-09ac834851d4}, Handle',\n",
       " 'N2StrT 2,                               Name',\n",
       " 'RoofCeiling,                            Surface Type',\n",
       " ',                                       Construction Name',\n",
       " '{e36ace6d-7bf7-486b-9574-93484bd018e6}, Space Name',\n",
       " 'Outdoors,                               Outside Boundary Condition',\n",
       " ',                                       Outside Boundary Condition Object',\n",
       " 'SunExposed,                             Sun Exposure',\n",
       " 'WindExposed,                            Wind Exposure',\n",
       " ',                                       View Factor to Ground',\n",
       " ',                                       Number of Vertices',\n",
       " '0, 0, 4.55,                             X,Y,Z Vertex 1 {m}',\n",
       " '6.82, 4.485, 4.55,                      X,Y,Z Vertex 2 {m}',\n",
       " '6.82, 6.285, 4.55,                      X,Y,Z Vertex 3 {m}',\n",
       " '0, 12.41, 4.55;                         X,Y,Z Vertex 4 {m}']"
      ]
     },
     "execution_count": 4,
     "metadata": {},
     "output_type": "execute_result"
    }
   ],
   "source": [
    "resto[-1]"
   ]
  },
  {
   "cell_type": "code",
   "execution_count": null,
   "id": "organic-waterproof",
   "metadata": {},
   "outputs": [],
   "source": []
  }
 ],
 "metadata": {
  "kernelspec": {
   "display_name": "Python 3",
   "language": "python",
   "name": "python3"
  },
  "language_info": {
   "codemirror_mode": {
    "name": "ipython",
    "version": 3
   },
   "file_extension": ".py",
   "mimetype": "text/x-python",
   "name": "python",
   "nbconvert_exporter": "python",
   "pygments_lexer": "ipython3",
   "version": "3.9.1"
  }
 },
 "nbformat": 4,
 "nbformat_minor": 5
}
