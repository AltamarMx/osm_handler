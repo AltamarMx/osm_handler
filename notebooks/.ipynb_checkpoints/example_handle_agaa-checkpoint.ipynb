{
 "cells": [
  {
   "cell_type": "code",
   "execution_count": 1,
   "id": "accompanied-missouri",
   "metadata": {},
   "outputs": [],
   "source": [
    "from osm_handler import *"
   ]
  },
  {
   "cell_type": "markdown",
   "id": "usual-millennium",
   "metadata": {},
   "source": [
    "Paso 1, abrir archivo **osm** y cargar diccionario, modificar si se desea el diccionario"
   ]
  },
  {
   "cell_type": "code",
   "execution_count": 2,
   "id": "strategic-metallic",
   "metadata": {},
   "outputs": [],
   "source": [
    "diccionario = get_dictionary_material(\"../osm/edificio_este.osm\")"
   ]
  },
  {
   "cell_type": "code",
   "execution_count": 3,
   "id": "digital-douglas",
   "metadata": {},
   "outputs": [],
   "source": [
    "# diccionario"
   ]
  },
  {
   "cell_type": "code",
   "execution_count": 4,
   "id": "medium-wallpaper",
   "metadata": {
    "scrolled": true
   },
   "outputs": [],
   "source": [
    "# for objeto in diccionario:\n",
    "#     print(objeto)\n"
   ]
  },
  {
   "cell_type": "code",
   "execution_count": 5,
   "id": "collect-camera",
   "metadata": {},
   "outputs": [
    {
     "data": {
      "text/plain": [
       "{'Handle': '{2e7157dc-32c2-44e3-9415-7874ececbba9}',\n",
       " 'Name': 'concreto_fc150_granzon_L8_a0pX',\n",
       " 'Roughness': 'MediumRough',\n",
       " 'Thickness {m}': 0.15,\n",
       " 'Conductivity {W/m-K}': 1.3,\n",
       " 'Density {kg/m3}': 1800.0,\n",
       " 'Specific Heat {J/kg-K}': 1000.0,\n",
       " 'Thermal Absorptance': 0.8,\n",
       " 'Solar Absorptance': 0.3,\n",
       " 'Visible Absorptance': 0.7}"
      ]
     },
     "execution_count": 5,
     "metadata": {},
     "output_type": "execute_result"
    }
   ],
   "source": [
    "diccionario[\"concreto_fc150_granzon_L8_a0pX\"]\n"
   ]
  },
  {
   "cell_type": "code",
   "execution_count": 6,
   "id": "liable-phase",
   "metadata": {
    "scrolled": false
   },
   "outputs": [],
   "source": [
    "diccionario[\"concreto_fc150_granzon_L8_a0pX\"][\"Solar Absorptance\"] = 1."
   ]
  },
  {
   "cell_type": "code",
   "execution_count": 7,
   "id": "welcome-prediction",
   "metadata": {},
   "outputs": [
    {
     "data": {
      "text/plain": [
       "{'Handle': '{2e7157dc-32c2-44e3-9415-7874ececbba9}',\n",
       " 'Name': 'concreto_fc150_granzon_L8_a0pX',\n",
       " 'Roughness': 'MediumRough',\n",
       " 'Thickness {m}': 0.15,\n",
       " 'Conductivity {W/m-K}': 1.3,\n",
       " 'Density {kg/m3}': 1800.0,\n",
       " 'Specific Heat {J/kg-K}': 1000.0,\n",
       " 'Thermal Absorptance': 0.8,\n",
       " 'Solar Absorptance': 1.0,\n",
       " 'Visible Absorptance': 0.7}"
      ]
     },
     "execution_count": 7,
     "metadata": {},
     "output_type": "execute_result"
    }
   ],
   "source": [
    "diccionario[\"concreto_fc150_granzon_L8_a0pX\"]"
   ]
  },
  {
   "cell_type": "markdown",
   "id": "foster-perspective",
   "metadata": {},
   "source": [
    "Paso 2, guardar nuevo diccionario con en formato JSON"
   ]
  },
  {
   "cell_type": "code",
   "execution_count": 8,
   "id": "incomplete-prague",
   "metadata": {},
   "outputs": [
    {
     "name": "stdout",
     "output_type": "stream",
     "text": [
      "saved: nuevecito.json\n"
     ]
    }
   ],
   "source": [
    "save_dict(\"nuevecito.json\",diccionario)"
   ]
  },
  {
   "cell_type": "markdown",
   "id": "temporal-above",
   "metadata": {},
   "source": [
    "Paso **3**, cargar diccionario en Python\n"
   ]
  },
  {
   "cell_type": "code",
   "execution_count": 9,
   "id": "annoying-savings",
   "metadata": {},
   "outputs": [
    {
     "data": {
      "text/plain": [
       "{'Handle': '{2e7157dc-32c2-44e3-9415-7874ececbba9}',\n",
       " 'Name': 'concreto_fc150_granzon_L8_a0pX',\n",
       " 'Roughness': 'MediumRough',\n",
       " 'Thickness {m}': 0.15,\n",
       " 'Conductivity {W/m-K}': 1.3,\n",
       " 'Density {kg/m3}': 1800.0,\n",
       " 'Specific Heat {J/kg-K}': 1000.0,\n",
       " 'Thermal Absorptance': 0.8,\n",
       " 'Solar Absorptance': 1.0,\n",
       " 'Visible Absorptance': 0.7}"
      ]
     },
     "execution_count": 9,
     "metadata": {},
     "output_type": "execute_result"
    }
   ],
   "source": [
    "nuevecito = load_dict(\"nuevecito.json\")\n",
    "nuevecito[\"concreto_fc150_granzon_L8_a0pX\"]"
   ]
  },
  {
   "cell_type": "markdown",
   "id": "conservative-bleeding",
   "metadata": {},
   "source": [
    "Paso **4**, guardar diccionario en OSM"
   ]
  },
  {
   "cell_type": "code",
   "execution_count": 10,
   "id": "owned-intake",
   "metadata": {},
   "outputs": [
    {
     "name": "stdout",
     "output_type": "stream",
     "text": [
      "saved: rest.osm\n",
      "saved: material.osm\n",
      "saved file: nuevo_osm.osm\n"
     ]
    }
   ],
   "source": [
    "save_osm(\"../osm/edificio_este.osm\",nuevecito,\"nuevo_osm.osm\")"
   ]
  },
  {
   "cell_type": "code",
   "execution_count": null,
   "id": "acting-dealing",
   "metadata": {},
   "outputs": [],
   "source": []
  },
  {
   "cell_type": "code",
   "execution_count": null,
   "id": "encouraging-recipient",
   "metadata": {},
   "outputs": [],
   "source": []
  },
  {
   "cell_type": "code",
   "execution_count": null,
   "id": "nervous-marijuana",
   "metadata": {},
   "outputs": [],
   "source": []
  },
  {
   "cell_type": "code",
   "execution_count": null,
   "id": "adopted-festival",
   "metadata": {},
   "outputs": [],
   "source": []
  }
 ],
 "metadata": {
  "kernelspec": {
   "display_name": "Python 3",
   "language": "python",
   "name": "python3"
  },
  "language_info": {
   "codemirror_mode": {
    "name": "ipython",
    "version": 3
   },
   "file_extension": ".py",
   "mimetype": "text/x-python",
   "name": "python",
   "nbconvert_exporter": "python",
   "pygments_lexer": "ipython3",
   "version": "3.9.1"
  }
 },
 "nbformat": 4,
 "nbformat_minor": 5
}
