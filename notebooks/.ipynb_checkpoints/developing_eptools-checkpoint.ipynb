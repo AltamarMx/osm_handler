{
 "cells": [
  {
   "cell_type": "code",
   "execution_count": 23,
   "id": "adverse-restriction",
   "metadata": {},
   "outputs": [],
   "source": [
    "import importlib\n",
    "import sys\n",
    "import calplot\n",
    "import numpy as np"
   ]
  },
  {
   "cell_type": "code",
   "execution_count": null,
   "id": "cooperative-budapest",
   "metadata": {},
   "outputs": [],
   "source": []
  },
  {
   "cell_type": "code",
   "execution_count": 17,
   "id": "central-navigator",
   "metadata": {},
   "outputs": [],
   "source": [
    "import pandas as pd\n",
    "import json\n",
    "from dateutil.parser import parse\n",
    "import calplot\n",
    "\n",
    "class read_epjson:\n",
    "    def __init__(self,file):\n",
    "        f = open(file)\n",
    "\n",
    "        data = json.load(f)\n",
    "        data = data[\"Schedule:Compact\"]\n",
    "        self.dict = data\n",
    "        horarios = []\n",
    "        for key in data:\n",
    "            horarios.append(key)\n",
    "        self.horarios = horarios\n",
    "    def diccionario(self,nombre):\n",
    "        return self.dict[nombre][\"data\"]\n",
    "    def plot(self,diccionario):\n",
    "        indice = pd.date_range(start='2021-01-01', end=\"2021-12-31 23:50\", freq='600S')\n",
    "        horario = pd.DataFrame(index=indice)\n",
    "\n",
    "\n",
    "\n",
    "        "
   ]
  },
  {
   "cell_type": "code",
   "execution_count": 12,
   "id": "certified-ethiopia",
   "metadata": {},
   "outputs": [
    {
     "data": {
      "text/plain": [
       "['OccAdmonGeneral',\n",
       " 'OccN1Au401',\n",
       " 'OccN1Au402',\n",
       " 'OccN1Au403',\n",
       " 'OccN1Au404',\n",
       " 'OccN1Lab',\n",
       " 'OccN2Au101',\n",
       " 'OccN2Au102',\n",
       " 'OccN2Au103',\n",
       " 'OccN2Au201',\n",
       " 'OccN2Au202',\n",
       " 'OccN2Au203',\n",
       " 'OccN2AuStrGRAL',\n",
       " 'OccN2Lab1',\n",
       " 'OccN2Lab2',\n",
       " 'OccPBAdmAdministrativo',\n",
       " 'OccPBCocina',\n",
       " 'OccPBCoorCOFI',\n",
       " 'OccPBSCom',\n",
       " 'OccPBSJuntas',\n",
       " 'OccPBVestibulo',\n",
       " 'PBCafePENDIENTE']"
      ]
     },
     "execution_count": 12,
     "metadata": {},
     "output_type": "execute_result"
    }
   ],
   "source": [
    "a = read_epjson(\"../librerias/horarios.epjson\")\n",
    "a.horarios"
   ]
  },
  {
   "cell_type": "code",
   "execution_count": 4,
   "id": "talented-financing",
   "metadata": {},
   "outputs": [],
   "source": [
    "ofi = a.diccionario('OccAdmonGeneral')\n"
   ]
  },
  {
   "cell_type": "code",
   "execution_count": 66,
   "id": "express-morning",
   "metadata": {},
   "outputs": [
    {
     "data": {
      "text/plain": [
       "(<Figure size 900x122.4 with 2 Axes>,\n",
       " array([<AxesSubplot:ylabel='2018'>], dtype=object))"
      ]
     },
     "execution_count": 66,
     "metadata": {},
     "output_type": "execute_result"
    },
    {
     "data": {
      "image/png": "[encoded data removed]",
      "text/plain": [
       "<Figure size 900x122.4 with 2 Axes>"
      ]
     },
     "metadata": {
      "needs_background": "light"
     },
     "output_type": "display_data"
    }
   ],
   "source": [
    "ofi = a.diccionario('OccAdmonGeneral')\n",
    "anio = \"2018\"\n",
    "\n",
    "dias = []\n",
    "posiciones = []\n",
    "\n",
    "for i,campo in enumerate(ofi):\n",
    "    palabra = str(campo[\"field\"])\n",
    "    if \"Through\" in palabra:\n",
    "        dias.append(palabra[-5:])\n",
    "        posiciones.append(i)\n",
    "        \n",
    "        \n",
    "        \n",
    "        \n",
    "value = -1   # los horarios se enumeran de -1 a -N\n",
    "horario = pd.DataFrame()\n",
    "\n",
    "fecha1 = parse(anio+\"/01/01\")\n",
    "for i,dia in enumerate(dias):\n",
    "    fecha2 = parse(anio +\"/\" + dias[i]+\" 23:50\")\n",
    "    indice = pd.date_range(start=fecha1,end=fecha2,freq='600S')\n",
    "    fecha1 = fecha2 + pd.Timedelta(\"600S\")\n",
    "    tmp = pd.DataFrame(index=indice)\n",
    "    \n",
    "    tmp[\"valor\"] = value\n",
    "    value -= 1\n",
    "    horario = pd.concat([horario,tmp],axis=0)\n",
    "    \n",
    "\n",
    "diario = horario.resample(\"D\").max()\n",
    "\n",
    "diario = pd.Series(data=diario.valor,index=diario.index,)\n",
    "calplot.calplot(pd.Series(diario))\n",
    "# diario"
   ]
  },
  {
   "cell_type": "code",
   "execution_count": 8,
   "id": "heavy-sending",
   "metadata": {},
   "outputs": [
    {
     "data": {
      "text/plain": [
       "pandas.core.frame.DataFrame"
      ]
     },
     "execution_count": 8,
     "metadata": {},
     "output_type": "execute_result"
    }
   ],
   "source": []
  },
  {
   "cell_type": "code",
   "execution_count": null,
   "id": "humanitarian-preliminary",
   "metadata": {},
   "outputs": [],
   "source": [
    "\n",
    "prueba = ofi[23:37]\n",
    "datos = []\n",
    "for i,campo in enumerate(prueba):\n",
    "#     print(i,campo)\n",
    "    datos.append(prueba[i][\"field\"])\n",
    "anio   = '2018'\n",
    "fecha1 = anio+\"-01-01\"\n",
    "fecha2 = anio+\"-12-31 23:50\"\n",
    "indice = pd.date_range(start=fecha1, end=fecha2, freq='600S')\n",
    "horario = pd.DataFrame(index=indice)\n",
    "horario[\"valor\"] = -1\n",
    "\n",
    "for cadena in datos:\n",
    "    if \"Through\" in str(cadena):\n",
    "        fecha = cadena[-5:]\n",
    "        fecha = anio+\"/\"+fecha\n",
    "    \n",
    "h = horario[:fecha].copy()\n",
    "h[\"valor\"] = 1\n",
    "h\n",
    "# fecha\n",
    "#         ajuste = horario[]"
   ]
  },
  {
   "cell_type": "code",
   "execution_count": null,
   "id": "independent-officer",
   "metadata": {},
   "outputs": [],
   "source": []
  },
  {
   "cell_type": "code",
   "execution_count": 24,
   "id": "three-filename",
   "metadata": {},
   "outputs": [
    {
     "data": {
      "text/plain": [
       "<AxesSubplot:>"
      ]
     },
     "execution_count": 24,
     "metadata": {},
     "output_type": "execute_result"
    },
    {
     "data": {
      "image/png": "[encoded data removed]",
      "text/plain": [
       "<Figure size 432x288 with 1 Axes>"
      ]
     },
     "metadata": {
      "needs_background": "light"
     },
     "output_type": "display_data"
    }
   ],
   "source": [
    "indice = pd.date_range(start='2021-01-01', end=\"2021-12-31 23:50\", freq='600S')\n",
    "\n",
    "horario = pd.DataFrame(index=indice)\n",
    "horario[\"diccionario\"] = -1\n",
    "\n",
    "horario.plot()"
   ]
  },
  {
   "cell_type": "code",
   "execution_count": 25,
   "id": "pregnant-sender",
   "metadata": {},
   "outputs": [
    {
     "data": {
      "text/plain": [
       "(<Figure size 900x244.8 with 3 Axes>,\n",
       " array([<AxesSubplot:ylabel='2019'>, <AxesSubplot:ylabel='2020'>],\n",
       "       dtype=object))"
      ]
     },
     "execution_count": 25,
     "metadata": {},
     "output_type": "execute_result"
    },
    {
     "data": {
      "image/png": "[encoded data removed]",
      "text/plain": [
       "<Figure size 900x244.8 with 3 Axes>"
      ]
     },
     "metadata": {
      "needs_background": "light"
     },
     "output_type": "display_data"
    }
   ],
   "source": [
    "all_days = pd.date_range('1/1/2019', periods=730, freq='D')\n",
    "days = np.random.choice(all_days, 500)\n",
    "events = pd.Series(np.random.randn(len(days)), index=days)\n",
    "calplot.calplot(events)\n"
   ]
  },
  {
   "cell_type": "code",
   "execution_count": 26,
   "id": "ethical-folks",
   "metadata": {},
   "outputs": [
    {
     "data": {
      "text/plain": [
       "2019-01-03   -1.469890\n",
       "2020-12-14   -0.180135\n",
       "2019-02-27   -0.179162\n",
       "2020-08-23    1.542991\n",
       "2020-06-11    0.613479\n",
       "                ...   \n",
       "2019-02-28    0.002862\n",
       "2019-05-29    0.202506\n",
       "2020-06-12   -0.450762\n",
       "2020-08-11   -1.223414\n",
       "2020-03-24    0.499608\n",
       "Length: 500, dtype: float64"
      ]
     },
     "execution_count": 26,
     "metadata": {},
     "output_type": "execute_result"
    }
   ],
   "source": [
    "events"
   ]
  },
  {
   "cell_type": "code",
   "execution_count": null,
   "id": "communist-hindu",
   "metadata": {},
   "outputs": [],
   "source": []
  }
 ],
 "metadata": {
  "kernelspec": {
   "display_name": "Python 3",
   "language": "python",
   "name": "python3"
  },
  "language_info": {
   "codemirror_mode": {
    "name": "ipython",
    "version": 3
   },
   "file_extension": ".py",
   "mimetype": "text/x-python",
   "name": "python",
   "nbconvert_exporter": "python",
   "pygments_lexer": "ipython3",
   "version": "3.9.2"
  }
 },
 "nbformat": 4,
 "nbformat_minor": 5
}
