{
 "cells": [
  {
   "cell_type": "code",
   "execution_count": 3,
   "id": "discrete-cowboy",
   "metadata": {},
   "outputs": [],
   "source": [
    "from pandas import *\n",
    "from datetime import timedelta\n",
    "from io import open\n",
    "import json\n",
    "import pandas as pd\n",
    "\n",
    "    \n",
    "\n",
    "# def load_save_materials(filename):\n",
    "#     with open(filename) as json_file:\n",
    "#     diccionario = json.load(json_file)\n",
    "    \n",
    "        \n",
    "def importMaterials(filename):\n",
    "    br = open(filename, \"r\")\n",
    "    osm = br.readlines()\n",
    "    i = 0\n",
    "    materials = []\n",
    "    materiales = {}   # este es el nuevo diccionario que ir'a creciendo\n",
    "#     osm_sin = open\n",
    "    while (i < len(osm)):\n",
    "        if(\"OS:Material,\" in osm[i]):\n",
    "            i, material,nuevo = getOsmObject(osm, i)  # ahora regresa tres argumentos, el tercero el dic\n",
    "            materiales.update(nuevo)  #actualiza el diccionario materiales con el nuevo encontrado\n",
    "#             print(nuevo)\n",
    "            materials.append(material)\n",
    "        i += 1\n",
    "    br.close()\n",
    "    materials = pd.DataFrame(materials)\n",
    "    materials.index = materials[\"Name\"]\n",
    "    return materials,materiales   # regresa ahora el diccionario materiales\n",
    "\n",
    "def getOsmObject(list, index):\n",
    "    object = {}\n",
    "    index += 1\n",
    "    while list[index] != \"\\n\":\n",
    "        if (',' in list[index]):\n",
    "            sep = ','\n",
    "        else:\n",
    "            sep = ';'\n",
    "        name = list[index].split(sep)[1]\n",
    "        name = name.split('!')[1][2:]\n",
    "        name = name.split('\\n')[0]\n",
    "\n",
    "        object[name] = getValue(list[index].split(sep)[0][2:])\n",
    "        index += 1\n",
    "    nombre = object[\"Name\"]  #extrae el nombre del material para definir diccionario\n",
    "    nuevo_dic = {nombre:object}  # crea nuevo diccionario con el nombre del material\n",
    "    return index, object,nuevo_dic  # regresa nuevo diccionario\n",
    "\n",
    "def getValue(strvalue):\n",
    "    try:\n",
    "        value = float(strvalue)\n",
    "        if (\".\" not in strvalue):\n",
    "            value = int(value)\n",
    "    except ValueError:\n",
    "        value = strvalue\n",
    "    return value\n",
    "\n",
    "def adjustTimestamp(strDate, year=\"2020\"):\n",
    "    strDate = year + \"/\" + strDate.strip()\n",
    "    wDate = strDate.split()[0]\n",
    "    wTime = strDate.split()[1]\n",
    "    tsDate = to_datetime(wDate, format=\"%Y/%m/%d\")\n",
    "    wHour = int(wTime.split(\":\")[0])\n",
    "    wMin = int(wTime.split(\":\")[1])\n",
    "    if (wHour > 23):\n",
    "        wHour = 0\n",
    "        tsDate += timedelta(days=1)\n",
    "    tsDate = tsDate.replace(hour=wHour, minute=wMin)\n",
    "    return tsDate\n",
    "\n",
    "def getEPVariables(filename):\n",
    "    datainfo = read_csv(filename)\n",
    "    datainfo[\"Date/Time\"] = datainfo[\"Date/Time\"].apply(lambda x: adjustTimestamp(x))\n",
    "    datainfo.rename(columns={\"Date/Time\":\"Timestamp\"}, inplace=True)\n",
    "    datainfo.set_index(\"Timestamp\",drop=True,inplace=True)\n",
    "    return datainfo\n",
    "\n",
    "def getValue(strvalue):\n",
    "    try:\n",
    "        value = float(strvalue)\n",
    "        if (\".\" not in strvalue):\n",
    "            value = int(value)\n",
    "    except ValueError:\n",
    "        value = strvalue\n",
    "    return value\n",
    "\n",
    " \n",
    "def setOsmObject(list, index, object):\n",
    "    index += 1\n",
    "    for name, value in object.items():\n",
    "        if str(value)==\"nan\":\n",
    "          break\n",
    "        if (',' in list[index]):\n",
    "            sep = ','\n",
    "        else:\n",
    "            sep = ';'\n",
    "        list[index] = \"  \" + str(value) + sep + \"!- \" + name + \"\\n\"\n",
    "        index += 1\n",
    "    return True\n"
   ]
  },
  {
   "cell_type": "code",
   "execution_count": 4,
   "id": "atlantic-uncertainty",
   "metadata": {},
   "outputs": [],
   "source": [
    "\n",
    "def exportMaterials(filename, materials):\n",
    "    br = open(filename, \"r\")\n",
    "    osm = br.readlines()\n",
    "    br.close()\n",
    "    i = 0\n",
    "    while (i < len(osm)):\n",
    "        if(\"OS:Material,\" in osm[i]):\n",
    "            material = materials.loc[osm[i+2].split(',')[0][2:]]\n",
    "            print(material)\n",
    "            setOsmObject(osm, i, material)\n",
    "        i += 1\n",
    "    br = open(filename, \"w\")\n",
    "    for line in osm:\n",
    "        br.write(line)\n",
    "    br.close()\n",
    "    return True\n"
   ]
  },
  {
   "cell_type": "code",
   "execution_count": 11,
   "id": "filled-paragraph",
   "metadata": {},
   "outputs": [
    {
     "data": {
      "text/plain": [
       "Index(['concreto_fc150_granzon_L8_a0pX', 'concreto_fc150_L6_a0pX',\n",
       "       'concreto_fc250_L30_a0pX', 'madera_L2p2_a0pX', 'marmol_L2_a0pX',\n",
       "       'concreto_fc250_L20_a0pX', 'mortero1:4_L1_a0pX', 'loseta_Lx_a0pX',\n",
       "       'impermeabilizante_LX_a0p3', 'fachaleta_L1_a0p3',\n",
       "       'concreto_fc200_L15_a0pX', 'durock_L1p27_a0p3',\n",
       "       'concreto_fc250_L15_a0pX', 'concreto_fc150_marmol_L8_a0pX',\n",
       "       'concreto_fc150_L8_a0pX', 'crest_L1_a0pX', 'tabique_hueco_L1_a0pX',\n",
       "       'concreto_fc150_L5_a0pX', 'lana_L6p35_a0p3', 'tabique_hueco_L2_a0pX',\n",
       "       'tabique_hueco_L3_a0pX', 'vermiculita_LX_a0pX',\n",
       "       'concreto_fc200_L20_a0pX', 'aluminio', 'Metal Decking',\n",
       "       'fachaleta_L1_a0p7', 'F16 Acoustic tile'],\n",
       "      dtype='object', name='Name')"
      ]
     },
     "execution_count": 11,
     "metadata": {},
     "output_type": "execute_result"
    }
   ],
   "source": [
    "m1, m2 = importMaterials(\"../osm/edificio_este.osm\")\n",
    "m1.index"
   ]
  },
  {
   "cell_type": "code",
   "execution_count": 16,
   "id": "native-classic",
   "metadata": {},
   "outputs": [],
   "source": [
    "m1.loc['concreto_fc150_granzon_L8_a0pX',\"Visible Absorptance\"] = 1.0"
   ]
  },
  {
   "cell_type": "code",
   "execution_count": 19,
   "id": "understanding-tokyo",
   "metadata": {},
   "outputs": [
    {
     "data": {
      "text/plain": [
       "True"
      ]
     },
     "execution_count": 19,
     "metadata": {},
     "output_type": "execute_result"
    }
   ],
   "source": [
    "exportMaterials(\"../osm/edificio_este.osm\",m1)"
   ]
  },
  {
   "cell_type": "code",
   "execution_count": null,
   "id": "operational-document",
   "metadata": {},
   "outputs": [],
   "source": []
  }
 ],
 "metadata": {
  "kernelspec": {
   "display_name": "Python 3",
   "language": "python",
   "name": "python3"
  },
  "language_info": {
   "codemirror_mode": {
    "name": "ipython",
    "version": 3
   },
   "file_extension": ".py",
   "mimetype": "text/x-python",
   "name": "python",
   "nbconvert_exporter": "python",
   "pygments_lexer": "ipython3",
   "version": "3.9.1"
  }
 },
 "nbformat": 4,
 "nbformat_minor": 5
}
