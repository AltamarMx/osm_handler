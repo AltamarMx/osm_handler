{
 "cells": [
  {
   "cell_type": "code",
   "execution_count": 2,
   "id": "separate-plymouth",
   "metadata": {},
   "outputs": [],
   "source": [
    "import handler as hdl\n",
    "from importlib import reload"
   ]
  },
  {
   "cell_type": "code",
   "execution_count": 36,
   "id": "adjacent-explanation",
   "metadata": {},
   "outputs": [
    {
     "data": {
      "text/plain": [
       "<module 'handler' from '/Users/gbv/osm_handler/notebooks/handler.py'>"
      ]
     },
     "execution_count": 36,
     "metadata": {},
     "output_type": "execute_result"
    }
   ],
   "source": []
  },
  {
   "cell_type": "code",
   "execution_count": 99,
   "id": "promotional-catering",
   "metadata": {},
   "outputs": [],
   "source": [
    "reload(hdl)\n",
    "osm = hdl.load_dictionary(\"../osm/edificio_este.osm\")\n"
   ]
  },
  {
   "cell_type": "code",
   "execution_count": 106,
   "id": "naked-metallic",
   "metadata": {},
   "outputs": [
    {
     "data": {
      "text/plain": [
       "['OS:Material,\\n',\n",
       " '  {8f09ab24-4c76-41a0-aafb-911a9de403f8},!- Handle\\n',\n",
       " '  madera_L2p2_a0pX,!- Name\\n',\n",
       " '  Smooth,!- Roughness\\n',\n",
       " '  0.02,!- Thickness {m}\\n',\n",
       " '  0.14,!- Conductivity {W/m-K}\\n',\n",
       " '  600.0,!- Density {kg/m3}\\n',\n",
       " '  1210.0,!- Specific Heat {J/kg-K}\\n',\n",
       " '  0.8,!- Thermal Absorptance\\n',\n",
       " '  0.3,!- Solar Absorptance\\n',\n",
       " '  0.3;!- Visible Absorptance\\n']"
      ]
     },
     "execution_count": 106,
     "metadata": {},
     "output_type": "execute_result"
    }
   ],
   "source": [
    "osm[3]"
   ]
  },
  {
   "cell_type": "code",
   "execution_count": null,
   "id": "fantastic-mother",
   "metadata": {},
   "outputs": [],
   "source": []
  }
 ],
 "metadata": {
  "kernelspec": {
   "display_name": "Python 3",
   "language": "python",
   "name": "python3"
  },
  "language_info": {
   "codemirror_mode": {
    "name": "ipython",
    "version": 3
   },
   "file_extension": ".py",
   "mimetype": "text/x-python",
   "name": "python",
   "nbconvert_exporter": "python",
   "pygments_lexer": "ipython3",
   "version": "3.9.1"
  }
 },
 "nbformat": 4,
 "nbformat_minor": 5
}
