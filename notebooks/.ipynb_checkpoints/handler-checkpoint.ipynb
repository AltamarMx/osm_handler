{
 "cells": [
  {
   "cell_type": "code",
   "execution_count": 1,
   "id": "athletic-limitation",
   "metadata": {},
   "outputs": [],
   "source": [
    "import handler as osm\n",
    "from importlib import reload"
   ]
  },
  {
   "cell_type": "code",
   "execution_count": 4,
   "id": "quarterly-leisure",
   "metadata": {},
   "outputs": [
    {
     "name": "stdout",
     "output_type": "stream",
     "text": [
      "saved: materiales.json\n"
     ]
    }
   ],
   "source": [
    "reload(osm)\n",
    "materiales = osm.load_dict_osm(\"../osm/edificio_este.osm\")\n",
    "materiales\n",
    "osm.save_dict(\"materiales.json\",materiales)"
   ]
  },
  {
   "cell_type": "code",
   "execution_count": 5,
   "id": "animated-summary",
   "metadata": {},
   "outputs": [
    {
     "data": {
      "text/plain": [
       "{'Name': 'madera_L2p2_a0pX',\n",
       " 'Roughness': 'Smooth',\n",
       " 'Thickness {m}': 0.02,\n",
       " 'Conductivity {W/m-K}': 0.14,\n",
       " 'Density {kg/m3}': 600.0,\n",
       " 'Specific Heat {J/kg-K}': 1210.0,\n",
       " 'Thermal Absorptance': 0.8,\n",
       " 'Solar Absorptance': 0.3,\n",
       " 'Visible Absorptance': 0.3,\n",
       " 'Comments': ''}"
      ]
     },
     "execution_count": 5,
     "metadata": {},
     "output_type": "execute_result"
    }
   ],
   "source": [
    "materiales[\"madera_L2p2_a0pX\"]"
   ]
  },
  {
   "cell_type": "code",
   "execution_count": 7,
   "id": "recent-insulin",
   "metadata": {},
   "outputs": [
    {
     "data": {
      "text/plain": [
       "{'Name': 'madera_L2p2_a0pX',\n",
       " 'Roughness': 'Smooth',\n",
       " 'Thickness {m}': 0.02,\n",
       " 'Conductivity {W/m-K}': 0.14,\n",
       " 'Density {kg/m3}': 600.0,\n",
       " 'Specific Heat {J/kg-K}': 1210.0,\n",
       " 'Thermal Absorptance': 0.8,\n",
       " 'Solar Absorptance': 0.3,\n",
       " 'Visible Absorptance': -1.0,\n",
       " 'Comments': 'Puse un valor irreal de absortancia'}"
      ]
     },
     "execution_count": 7,
     "metadata": {},
     "output_type": "execute_result"
    }
   ],
   "source": [
    "materiales[\"madera_L2p2_a0pX\"][\"Visible Absorptance\"] = -1.0\n",
    "materiales[\"madera_L2p2_a0pX\"][\"Comments\"] = \"Puse un valor irreal de absortancia\"\n",
    "materiales[\"madera_L2p2_a0pX\"]"
   ]
  },
  {
   "cell_type": "code",
   "execution_count": null,
   "id": "democratic-prediction",
   "metadata": {},
   "outputs": [],
   "source": [
    "osm.save_dict(\"actualizado.json\",materiales)"
   ]
  },
  {
   "cell_type": "code",
   "execution_count": null,
   "id": "frank-northwest",
   "metadata": {},
   "outputs": [],
   "source": [
    "actualizado = osm.load_dict_json(\"actualizado.json\")\n",
    "actualizado"
   ]
  },
  {
   "cell_type": "code",
   "execution_count": null,
   "id": "infrared-doctor",
   "metadata": {
    "scrolled": false
   },
   "outputs": [],
   "source": [
    "m1  = osm.load_dict_osm(\"../osm/edificio_este.osm\")\n",
    "m1 = osm.update_dict(m1,actualizado) \n",
    "m1['madera_L2p2_a0pX']"
   ]
  },
  {
   "cell_type": "code",
   "execution_count": null,
   "id": "labeled-bernard",
   "metadata": {},
   "outputs": [],
   "source": []
  },
  {
   "cell_type": "code",
   "execution_count": null,
   "id": "serious-settle",
   "metadata": {},
   "outputs": [],
   "source": [
    "reload(osm)\n",
    "osm.update_osm(\"../osm/edificio_este.osm\",m1)"
   ]
  },
  {
   "cell_type": "code",
   "execution_count": null,
   "id": "embedded-state",
   "metadata": {},
   "outputs": [],
   "source": [
    "materiales = list(m1.keys())\n",
    "m1[materiales[0]].keys()"
   ]
  },
  {
   "cell_type": "code",
   "execution_count": null,
   "id": "loved-hunger",
   "metadata": {},
   "outputs": [],
   "source": []
  }
 ],
 "metadata": {
  "kernelspec": {
   "display_name": "Python 3",
   "language": "python",
   "name": "python3"
  },
  "language_info": {
   "codemirror_mode": {
    "name": "ipython",
    "version": 3
   },
   "file_extension": ".py",
   "mimetype": "text/x-python",
   "name": "python",
   "nbconvert_exporter": "python",
   "pygments_lexer": "ipython3",
   "version": "3.9.1"
  }
 },
 "nbformat": 4,
 "nbformat_minor": 5
}
